{
 "cells": [
  {
   "cell_type": "code",
   "execution_count": 1,
   "metadata": {
    "colab": {
     "base_uri": "https://localhost:8080/"
    },
    "executionInfo": {
     "elapsed": 23,
     "status": "ok",
     "timestamp": 1658915823519,
     "user": {
      "displayName": "jonney wong",
      "userId": "03399868621473431933"
     },
     "user_tz": -480
    },
    "id": "afPGAUyFv_xJ",
    "outputId": "6bd76c87-55a8-4253-f129-96f2871393b2"
   },
   "outputs": [
    {
     "name": "stdout",
     "output_type": "stream",
     "text": [
      "/content/drive/MyDrive/医学汇总/眼底\n"
     ]
    }
   ],
   "source": [
    "cd /content/drive/MyDrive/医学汇总/眼底"
   ]
  },
  {
   "cell_type": "code",
   "execution_count": 2,
   "metadata": {
    "colab": {
     "base_uri": "https://localhost:8080/",
     "height": 850
    },
    "executionInfo": {
     "elapsed": 2020,
     "status": "ok",
     "timestamp": 1658915825521,
     "user": {
      "displayName": "jonney wong",
      "userId": "03399868621473431933"
     },
     "user_tz": -480
    },
    "id": "pnMLjvLSBeVM",
    "outputId": "844a772f-c5f2-4621-e87b-523a1ba927b6"
   },
   "outputs": [
    {
     "data": {
      "text/html": [
       "\n",
       "  <div id=\"df-3c08cc49-ce25-402d-bcd8-b2b947b4b3f1\">\n",
       "    <div class=\"colab-df-container\">\n",
       "      <div>\n",
       "<style scoped>\n",
       "    .dataframe tbody tr th:only-of-type {\n",
       "        vertical-align: middle;\n",
       "    }\n",
       "\n",
       "    .dataframe tbody tr th {\n",
       "        vertical-align: top;\n",
       "    }\n",
       "\n",
       "    .dataframe thead th {\n",
       "        text-align: right;\n",
       "    }\n",
       "</style>\n",
       "<table border=\"1\" class=\"dataframe\">\n",
       "  <thead>\n",
       "    <tr style=\"text-align: right;\">\n",
       "      <th></th>\n",
       "      <th>住院序号本次住院就诊编码</th>\n",
       "      <th>record</th>\n",
       "      <th>入院情况</th>\n",
       "      <th>诊疗经过</th>\n",
       "      <th>note_复方血栓通胶囊</th>\n",
       "      <th>note_注射剂</th>\n",
       "      <th>diag_冠状动脉粥样硬化性心脏病</th>\n",
       "      <th>diag_后循环缺血</th>\n",
       "      <th>diag_大脑动脉粥样硬化</th>\n",
       "      <th>diag_颈内动脉粥样硬化</th>\n",
       "      <th>diag_颈动脉硬化</th>\n",
       "      <th>diag_高脂血症</th>\n",
       "      <th>diag_视网膜病变</th>\n",
       "      <th>diag_视网膜动静脉阻塞</th>\n",
       "    </tr>\n",
       "  </thead>\n",
       "  <tbody>\n",
       "    <tr>\n",
       "      <th>0</th>\n",
       "      <td>20210522-000093</td>\n",
       "      <td>入院情况:患者因\"头晕10余年，再发伴头痛1天。\"入院。专科情况：T 36.8℃，P65次/...</td>\n",
       "      <td>入院情况:患者因\"头晕10余年，再发伴头痛1天。\"入院。专科情况：T 36.8℃，P65次/...</td>\n",
       "      <td>诊治经过：入院给予完善相关检查，血常规、肝功能、肾功能等未见异常；2021-05-23 冠脉...</td>\n",
       "      <td>1</td>\n",
       "      <td>1</td>\n",
       "      <td>1</td>\n",
       "      <td>0</td>\n",
       "      <td>0</td>\n",
       "      <td>0</td>\n",
       "      <td>0</td>\n",
       "      <td>0</td>\n",
       "      <td>0</td>\n",
       "      <td>0</td>\n",
       "    </tr>\n",
       "    <tr>\n",
       "      <th>1</th>\n",
       "      <td>20191031-000063</td>\n",
       "      <td>入院情况:患者因\"右眼视物模糊、眼前暗影1个月。\"入院。入院专科情况：右眼裸眼远视力0.12...</td>\n",
       "      <td>入院情况:患者因\"右眼视物模糊、眼前暗影1个月。\"入院。入院专科情况：右眼裸眼远视力0.12...</td>\n",
       "      <td>诊治经过：予改善视网膜循环、营养神经治疗，请中医科会诊予中药辅助治疗，完善检查：胸片示：左上...</td>\n",
       "      <td>0</td>\n",
       "      <td>1</td>\n",
       "      <td>0</td>\n",
       "      <td>0</td>\n",
       "      <td>0</td>\n",
       "      <td>0</td>\n",
       "      <td>0</td>\n",
       "      <td>0</td>\n",
       "      <td>1</td>\n",
       "      <td>0</td>\n",
       "    </tr>\n",
       "    <tr>\n",
       "      <th>2</th>\n",
       "      <td>20191116-000129</td>\n",
       "      <td>入院情况:患者张水旺，男，64岁。因“言语减少、精神差十余小时”入院。入院查体：体温36.5...</td>\n",
       "      <td>入院情况:患者张水旺，男，64岁。因“言语减少、精神差十余小时”入院。入院查体：体温36.5...</td>\n",
       "      <td>诊治经过：入院后完善各项检查，综合项目:血糖（GLU） 8.46(mmol/L)↑；血常规、...</td>\n",
       "      <td>1</td>\n",
       "      <td>1</td>\n",
       "      <td>1</td>\n",
       "      <td>0</td>\n",
       "      <td>0</td>\n",
       "      <td>0</td>\n",
       "      <td>1</td>\n",
       "      <td>0</td>\n",
       "      <td>0</td>\n",
       "      <td>0</td>\n",
       "    </tr>\n",
       "    <tr>\n",
       "      <th>3</th>\n",
       "      <td>20210531-000115</td>\n",
       "      <td>入院情况:患者因\"反复胸闷不适1月。\"入院。专科情况：T 36.5℃，P75次/分，R 20...</td>\n",
       "      <td>入院情况:患者因\"反复胸闷不适1月。\"入院。专科情况：T 36.5℃，P75次/分，R 20...</td>\n",
       "      <td>诊治经过：入院给予完善相关检查，2021-06-02 心功酶(干化学法)+肾功能检测（干化学...</td>\n",
       "      <td>1</td>\n",
       "      <td>1</td>\n",
       "      <td>1</td>\n",
       "      <td>0</td>\n",
       "      <td>0</td>\n",
       "      <td>0</td>\n",
       "      <td>0</td>\n",
       "      <td>0</td>\n",
       "      <td>0</td>\n",
       "      <td>0</td>\n",
       "    </tr>\n",
       "    <tr>\n",
       "      <th>4</th>\n",
       "      <td>20191128-000036</td>\n",
       "      <td>入院情况:患者因\"口干、多饮、多尿10年，再发1月余\"入院。入院查体:[通科查体]。专科情况...</td>\n",
       "      <td>入院情况:患者因\"口干、多饮、多尿10年，再发1月余\"入院。入院查体:[通科查体]。专科情况...</td>\n",
       "      <td>诊治经过：入院后予完善检查2019-11-28 综合项目:血肌酐（CREA） 58.88(u...</td>\n",
       "      <td>1</td>\n",
       "      <td>0</td>\n",
       "      <td>0</td>\n",
       "      <td>0</td>\n",
       "      <td>0</td>\n",
       "      <td>0</td>\n",
       "      <td>0</td>\n",
       "      <td>0</td>\n",
       "      <td>1</td>\n",
       "      <td>0</td>\n",
       "    </tr>\n",
       "    <tr>\n",
       "      <th>...</th>\n",
       "      <td>...</td>\n",
       "      <td>...</td>\n",
       "      <td>...</td>\n",
       "      <td>...</td>\n",
       "      <td>...</td>\n",
       "      <td>...</td>\n",
       "      <td>...</td>\n",
       "      <td>...</td>\n",
       "      <td>...</td>\n",
       "      <td>...</td>\n",
       "      <td>...</td>\n",
       "      <td>...</td>\n",
       "      <td>...</td>\n",
       "      <td>...</td>\n",
       "    </tr>\n",
       "    <tr>\n",
       "      <th>903</th>\n",
       "      <td>20210331-000043</td>\n",
       "      <td>入院情况:患者因\"胸闷1年，再发1周。\"入院。专科情况：T 36.2℃，P58次/分，R 2...</td>\n",
       "      <td>入院情况:患者因\"胸闷1年，再发1周。\"入院。专科情况：T 36.2℃，P58次/分，R 2...</td>\n",
       "      <td>诊治经过：入院给予完善相关检查，2021-03-31 肾功能检测（干化学）+无机离子检测（干...</td>\n",
       "      <td>1</td>\n",
       "      <td>1</td>\n",
       "      <td>1</td>\n",
       "      <td>0</td>\n",
       "      <td>0</td>\n",
       "      <td>0</td>\n",
       "      <td>0</td>\n",
       "      <td>1</td>\n",
       "      <td>0</td>\n",
       "      <td>0</td>\n",
       "    </tr>\n",
       "    <tr>\n",
       "      <th>904</th>\n",
       "      <td>20210415-000033</td>\n",
       "      <td>入院情况:患者因\"胸闷、胸痛1年余，再发1周。\"入院。专科情况：T 36.5℃，P66次/分...</td>\n",
       "      <td>入院情况:患者因\"胸闷、胸痛1年余，再发1周。\"入院。专科情况：T 36.5℃，P66次/分...</td>\n",
       "      <td>诊治经过：入院给予完善相关检查，2021-04-15 肝功能检测（干化学）+心功酶(干化学法...</td>\n",
       "      <td>1</td>\n",
       "      <td>1</td>\n",
       "      <td>1</td>\n",
       "      <td>0</td>\n",
       "      <td>0</td>\n",
       "      <td>0</td>\n",
       "      <td>0</td>\n",
       "      <td>1</td>\n",
       "      <td>0</td>\n",
       "      <td>0</td>\n",
       "    </tr>\n",
       "    <tr>\n",
       "      <th>905</th>\n",
       "      <td>20190916-000159</td>\n",
       "      <td>入院情况:患者因\"反复口干、多饮、多尿10余年，右肘关节肿痛4天。\"入院。入院查体:[通科查...</td>\n",
       "      <td>入院情况:患者因\"反复口干、多饮、多尿10余年，右肘关节肿痛4天。\"入院。入院查体:[通科查...</td>\n",
       "      <td>诊治经过：2019-09-16 血常规:白细胞数(WBC) 18.65(×10E9/L)↑，...</td>\n",
       "      <td>1</td>\n",
       "      <td>0</td>\n",
       "      <td>0</td>\n",
       "      <td>0</td>\n",
       "      <td>0</td>\n",
       "      <td>0</td>\n",
       "      <td>0</td>\n",
       "      <td>0</td>\n",
       "      <td>1</td>\n",
       "      <td>0</td>\n",
       "    </tr>\n",
       "    <tr>\n",
       "      <th>906</th>\n",
       "      <td>20210313-000005</td>\n",
       "      <td>入院情况:患者黄永洪，男，52岁。因“发作性左侧肢体乏力伴言语不清2次”入院。查体：T:36...</td>\n",
       "      <td>入院情况:患者黄永洪，男，52岁。因“发作性左侧肢体乏力伴言语不清2次”入院。查体：T:36...</td>\n",
       "      <td>诊治经过：入院后完善各项检查，脂类分析四项+肝功能三项+蛋白分析检测+血清葡萄糖(空腹):总...</td>\n",
       "      <td>0</td>\n",
       "      <td>1</td>\n",
       "      <td>0</td>\n",
       "      <td>0</td>\n",
       "      <td>0</td>\n",
       "      <td>0</td>\n",
       "      <td>0</td>\n",
       "      <td>1</td>\n",
       "      <td>0</td>\n",
       "      <td>0</td>\n",
       "    </tr>\n",
       "    <tr>\n",
       "      <th>907</th>\n",
       "      <td>20210529-000063</td>\n",
       "      <td>入院情况：患者因\"反复胸闷不适半月。\"入院。专科情况：BP138/90mmHg 神志清，呼吸...</td>\n",
       "      <td>入院情况：患者因\"反复胸闷不适半月。\"入院。专科情况：BP138/90mmHg 神志清，呼吸...</td>\n",
       "      <td>诊治经过：完善如下检查：三大常规、生化、肝肾功、心肌酶、肌钙蛋白、BNP、甲状腺功能、心电图...</td>\n",
       "      <td>1</td>\n",
       "      <td>1</td>\n",
       "      <td>1</td>\n",
       "      <td>0</td>\n",
       "      <td>0</td>\n",
       "      <td>0</td>\n",
       "      <td>0</td>\n",
       "      <td>0</td>\n",
       "      <td>0</td>\n",
       "      <td>0</td>\n",
       "    </tr>\n",
       "  </tbody>\n",
       "</table>\n",
       "<p>908 rows × 14 columns</p>\n",
       "</div>\n",
       "      <button class=\"colab-df-convert\" onclick=\"convertToInteractive('df-3c08cc49-ce25-402d-bcd8-b2b947b4b3f1')\"\n",
       "              title=\"Convert this dataframe to an interactive table.\"\n",
       "              style=\"display:none;\">\n",
       "        \n",
       "  <svg xmlns=\"http://www.w3.org/2000/svg\" height=\"24px\"viewBox=\"0 0 24 24\"\n",
       "       width=\"24px\">\n",
       "    <path d=\"M0 0h24v24H0V0z\" fill=\"none\"/>\n",
       "    <path d=\"M18.56 5.44l.94 2.06.94-2.06 2.06-.94-2.06-.94-.94-2.06-.94 2.06-2.06.94zm-11 1L8.5 8.5l.94-2.06 2.06-.94-2.06-.94L8.5 2.5l-.94 2.06-2.06.94zm10 10l.94 2.06.94-2.06 2.06-.94-2.06-.94-.94-2.06-.94 2.06-2.06.94z\"/><path d=\"M17.41 7.96l-1.37-1.37c-.4-.4-.92-.59-1.43-.59-.52 0-1.04.2-1.43.59L10.3 9.45l-7.72 7.72c-.78.78-.78 2.05 0 2.83L4 21.41c.39.39.9.59 1.41.59.51 0 1.02-.2 1.41-.59l7.78-7.78 2.81-2.81c.8-.78.8-2.07 0-2.86zM5.41 20L4 18.59l7.72-7.72 1.47 1.35L5.41 20z\"/>\n",
       "  </svg>\n",
       "      </button>\n",
       "      \n",
       "  <style>\n",
       "    .colab-df-container {\n",
       "      display:flex;\n",
       "      flex-wrap:wrap;\n",
       "      gap: 12px;\n",
       "    }\n",
       "\n",
       "    .colab-df-convert {\n",
       "      background-color: #E8F0FE;\n",
       "      border: none;\n",
       "      border-radius: 50%;\n",
       "      cursor: pointer;\n",
       "      display: none;\n",
       "      fill: #1967D2;\n",
       "      height: 32px;\n",
       "      padding: 0 0 0 0;\n",
       "      width: 32px;\n",
       "    }\n",
       "\n",
       "    .colab-df-convert:hover {\n",
       "      background-color: #E2EBFA;\n",
       "      box-shadow: 0px 1px 2px rgba(60, 64, 67, 0.3), 0px 1px 3px 1px rgba(60, 64, 67, 0.15);\n",
       "      fill: #174EA6;\n",
       "    }\n",
       "\n",
       "    [theme=dark] .colab-df-convert {\n",
       "      background-color: #3B4455;\n",
       "      fill: #D2E3FC;\n",
       "    }\n",
       "\n",
       "    [theme=dark] .colab-df-convert:hover {\n",
       "      background-color: #434B5C;\n",
       "      box-shadow: 0px 1px 3px 1px rgba(0, 0, 0, 0.15);\n",
       "      filter: drop-shadow(0px 1px 2px rgba(0, 0, 0, 0.3));\n",
       "      fill: #FFFFFF;\n",
       "    }\n",
       "  </style>\n",
       "\n",
       "      <script>\n",
       "        const buttonEl =\n",
       "          document.querySelector('#df-3c08cc49-ce25-402d-bcd8-b2b947b4b3f1 button.colab-df-convert');\n",
       "        buttonEl.style.display =\n",
       "          google.colab.kernel.accessAllowed ? 'block' : 'none';\n",
       "\n",
       "        async function convertToInteractive(key) {\n",
       "          const element = document.querySelector('#df-3c08cc49-ce25-402d-bcd8-b2b947b4b3f1');\n",
       "          const dataTable =\n",
       "            await google.colab.kernel.invokeFunction('convertToInteractive',\n",
       "                                                     [key], {});\n",
       "          if (!dataTable) return;\n",
       "\n",
       "          const docLinkHtml = 'Like what you see? Visit the ' +\n",
       "            '<a target=\"_blank\" href=https://colab.research.google.com/notebooks/data_table.ipynb>data table notebook</a>'\n",
       "            + ' to learn more about interactive tables.';\n",
       "          element.innerHTML = '';\n",
       "          dataTable['output_type'] = 'display_data';\n",
       "          await google.colab.output.renderOutput(dataTable, element);\n",
       "          const docLink = document.createElement('div');\n",
       "          docLink.innerHTML = docLinkHtml;\n",
       "          element.appendChild(docLink);\n",
       "        }\n",
       "      </script>\n",
       "    </div>\n",
       "  </div>\n",
       "  "
      ],
      "text/plain": [
       "        住院序号本次住院就诊编码                                             record  \\\n",
       "0    20210522-000093  入院情况:患者因\"头晕10余年，再发伴头痛1天。\"入院。专科情况：T 36.8℃，P65次/...   \n",
       "1    20191031-000063  入院情况:患者因\"右眼视物模糊、眼前暗影1个月。\"入院。入院专科情况：右眼裸眼远视力0.12...   \n",
       "2    20191116-000129  入院情况:患者张水旺，男，64岁。因“言语减少、精神差十余小时”入院。入院查体：体温36.5...   \n",
       "3    20210531-000115  入院情况:患者因\"反复胸闷不适1月。\"入院。专科情况：T 36.5℃，P75次/分，R 20...   \n",
       "4    20191128-000036  入院情况:患者因\"口干、多饮、多尿10年，再发1月余\"入院。入院查体:[通科查体]。专科情况...   \n",
       "..               ...                                                ...   \n",
       "903  20210331-000043  入院情况:患者因\"胸闷1年，再发1周。\"入院。专科情况：T 36.2℃，P58次/分，R 2...   \n",
       "904  20210415-000033  入院情况:患者因\"胸闷、胸痛1年余，再发1周。\"入院。专科情况：T 36.5℃，P66次/分...   \n",
       "905  20190916-000159  入院情况:患者因\"反复口干、多饮、多尿10余年，右肘关节肿痛4天。\"入院。入院查体:[通科查...   \n",
       "906  20210313-000005  入院情况:患者黄永洪，男，52岁。因“发作性左侧肢体乏力伴言语不清2次”入院。查体：T:36...   \n",
       "907  20210529-000063  入院情况：患者因\"反复胸闷不适半月。\"入院。专科情况：BP138/90mmHg 神志清，呼吸...   \n",
       "\n",
       "                                                  入院情况  \\\n",
       "0    入院情况:患者因\"头晕10余年，再发伴头痛1天。\"入院。专科情况：T 36.8℃，P65次/...   \n",
       "1    入院情况:患者因\"右眼视物模糊、眼前暗影1个月。\"入院。入院专科情况：右眼裸眼远视力0.12...   \n",
       "2    入院情况:患者张水旺，男，64岁。因“言语减少、精神差十余小时”入院。入院查体：体温36.5...   \n",
       "3    入院情况:患者因\"反复胸闷不适1月。\"入院。专科情况：T 36.5℃，P75次/分，R 20...   \n",
       "4    入院情况:患者因\"口干、多饮、多尿10年，再发1月余\"入院。入院查体:[通科查体]。专科情况...   \n",
       "..                                                 ...   \n",
       "903  入院情况:患者因\"胸闷1年，再发1周。\"入院。专科情况：T 36.2℃，P58次/分，R 2...   \n",
       "904  入院情况:患者因\"胸闷、胸痛1年余，再发1周。\"入院。专科情况：T 36.5℃，P66次/分...   \n",
       "905  入院情况:患者因\"反复口干、多饮、多尿10余年，右肘关节肿痛4天。\"入院。入院查体:[通科查...   \n",
       "906  入院情况:患者黄永洪，男，52岁。因“发作性左侧肢体乏力伴言语不清2次”入院。查体：T:36...   \n",
       "907  入院情况：患者因\"反复胸闷不适半月。\"入院。专科情况：BP138/90mmHg 神志清，呼吸...   \n",
       "\n",
       "                                                  诊疗经过  note_复方血栓通胶囊  \\\n",
       "0    诊治经过：入院给予完善相关检查，血常规、肝功能、肾功能等未见异常；2021-05-23 冠脉...             1   \n",
       "1    诊治经过：予改善视网膜循环、营养神经治疗，请中医科会诊予中药辅助治疗，完善检查：胸片示：左上...             0   \n",
       "2    诊治经过：入院后完善各项检查，综合项目:血糖（GLU） 8.46(mmol/L)↑；血常规、...             1   \n",
       "3    诊治经过：入院给予完善相关检查，2021-06-02 心功酶(干化学法)+肾功能检测（干化学...             1   \n",
       "4    诊治经过：入院后予完善检查2019-11-28 综合项目:血肌酐（CREA） 58.88(u...             1   \n",
       "..                                                 ...           ...   \n",
       "903  诊治经过：入院给予完善相关检查，2021-03-31 肾功能检测（干化学）+无机离子检测（干...             1   \n",
       "904  诊治经过：入院给予完善相关检查，2021-04-15 肝功能检测（干化学）+心功酶(干化学法...             1   \n",
       "905  诊治经过：2019-09-16 血常规:白细胞数(WBC) 18.65(×10E9/L)↑，...             1   \n",
       "906  诊治经过：入院后完善各项检查，脂类分析四项+肝功能三项+蛋白分析检测+血清葡萄糖(空腹):总...             0   \n",
       "907  诊治经过：完善如下检查：三大常规、生化、肝肾功、心肌酶、肌钙蛋白、BNP、甲状腺功能、心电图...             1   \n",
       "\n",
       "     note_注射剂  diag_冠状动脉粥样硬化性心脏病  diag_后循环缺血  diag_大脑动脉粥样硬化  diag_颈内动脉粥样硬化  \\\n",
       "0           1                  1           0              0              0   \n",
       "1           1                  0           0              0              0   \n",
       "2           1                  1           0              0              0   \n",
       "3           1                  1           0              0              0   \n",
       "4           0                  0           0              0              0   \n",
       "..        ...                ...         ...            ...            ...   \n",
       "903         1                  1           0              0              0   \n",
       "904         1                  1           0              0              0   \n",
       "905         0                  0           0              0              0   \n",
       "906         1                  0           0              0              0   \n",
       "907         1                  1           0              0              0   \n",
       "\n",
       "     diag_颈动脉硬化  diag_高脂血症  diag_视网膜病变  diag_视网膜动静脉阻塞  \n",
       "0             0          0           0              0  \n",
       "1             0          0           1              0  \n",
       "2             1          0           0              0  \n",
       "3             0          0           0              0  \n",
       "4             0          0           1              0  \n",
       "..          ...        ...         ...            ...  \n",
       "903           0          1           0              0  \n",
       "904           0          1           0              0  \n",
       "905           0          0           1              0  \n",
       "906           0          1           0              0  \n",
       "907           0          0           0              0  \n",
       "\n",
       "[908 rows x 14 columns]"
      ]
     },
     "execution_count": 2,
     "metadata": {},
     "output_type": "execute_result"
    }
   ],
   "source": [
    "import pandas as pd\n",
    "import jieba\n",
    "from tqdm import tqdm\n",
    "import re\n",
    "temp1 = pd.read_excel(\"df_train.xlsx\")\n",
    "temp1"
   ]
  },
  {
   "cell_type": "code",
   "execution_count": 3,
   "metadata": {
    "executionInfo": {
     "elapsed": 6,
     "status": "ok",
     "timestamp": 1658915825521,
     "user": {
      "displayName": "jonney wong",
      "userId": "03399868621473431933"
     },
     "user_tz": -480
    },
    "id": "KbfFH0ridJ5Y"
   },
   "outputs": [],
   "source": [
    "features = ['record','note_复方血栓通胶囊', 'note_注射剂',\n",
    "       'diag_冠状动脉粥样硬化性心脏病', 'diag_后循环缺血', 'diag_大脑动脉粥样硬化', 'diag_颈内动脉粥样硬化',\n",
    "       'diag_颈动脉硬化', 'diag_高脂血症', 'diag_视网膜病变', 'diag_视网膜动静脉阻塞']"
   ]
  },
  {
   "cell_type": "code",
   "execution_count": 4,
   "metadata": {
    "colab": {
     "base_uri": "https://localhost:8080/"
    },
    "executionInfo": {
     "elapsed": 6,
     "status": "ok",
     "timestamp": 1658915826096,
     "user": {
      "displayName": "jonney wong",
      "userId": "03399868621473431933"
     },
     "user_tz": -480
    },
    "id": "uqUfcZzSdB75",
    "outputId": "e5791c04-ee6b-4c4b-de39-e96d16974386"
   },
   "outputs": [
    {
     "data": {
      "text/plain": [
       "(29, 11)"
      ]
     },
     "execution_count": 4,
     "metadata": {},
     "output_type": "execute_result"
    }
   ],
   "source": [
    "import numpy as np\n",
    "total_data = list()\n",
    "total_test = list()\n",
    "for line in temp1[features].values:\n",
    "  if np.sum(line[4:]) > 2:\n",
    "    total_data.append(line)\n",
    "  else:\n",
    "    total_test.append(line)\n",
    "total_data = np.array(total_data)\n",
    "total_test = np.array(total_test)\n",
    "total_data.shape"
   ]
  },
  {
   "cell_type": "code",
   "execution_count": 5,
   "metadata": {
    "colab": {
     "base_uri": "https://localhost:8080/"
    },
    "executionInfo": {
     "elapsed": 1272,
     "status": "ok",
     "timestamp": 1658915827363,
     "user": {
      "displayName": "jonney wong",
      "userId": "03399868621473431933"
     },
     "user_tz": -480
    },
    "id": "RQsuKRHwuwf6",
    "outputId": "6a8f326d-6cc0-4009-8a36-adaf8c4e98d0"
   },
   "outputs": [
    {
     "name": "stderr",
     "output_type": "stream",
     "text": [
      "\r",
      "  0%|          | 0/29 [00:00<?, ?it/s]Building prefix dict from the default dictionary ...\n",
      "Dumping model to file cache /tmp/jieba.cache\n",
      "Loading model cost 0.968 seconds.\n",
      "Prefix dict has been built successfully.\n",
      "100%|██████████| 29/29 [00:01<00:00, 23.27it/s]\n"
     ]
    }
   ],
   "source": [
    "def get_stopwords_list(file_name):\n",
    "    stopwords = [line.strip() for line in open(file_name,encoding='UTF-8').readlines()]\n",
    "    return stopwords\n",
    "def remove_digits(input_str):\n",
    "    punc = u'0123456789.'\n",
    "    output_str = re.sub(r'[{}]+'.format(punc), '', input_str)\n",
    "    return output_str\n",
    "def move_stopwords(sentence_list, stopwords_list):\n",
    "    # 去停用词\n",
    "    out_list = []\n",
    "    for word in sentence_list:\n",
    "        if word not in stopwords_list:\n",
    "            # if not remove_digits(word):\n",
    "            #     continue\n",
    "            if word != '\\t':\n",
    "                out_list.append(word)\n",
    "    return out_list\n",
    "stop_word = get_stopwords_list(\"stopword.txt\")\n",
    "total_text = []\n",
    "for line in tqdm(total_data[:,0]):\n",
    "  line = line.replace(\"℃\",\"度\").replace(\"T\",\"体温\").replace(\"BP\",\"血压\").replace(\"P\",\"心率\").replace(\"R\",\"呼吸\").replace(\"BMI\",\"体脂\")\n",
    "  line = re.sub('[a-zA-Z]','',line)\n",
    "  # line = re.sub('[\\d]','',line)\n",
    "  line = line.replace(\" \",\"\").replace(\"BP\",\"\").replace(\"mmHg\",\"\").replace(\"nmol\",\"正常\").replace(\"Na\",\"\").replace(\"↓\",\"较低\")\n",
    "  seg_list = jieba.cut(line, cut_all=False, HMM=True)\n",
    "  seg_list = move_stopwords(seg_list,stop_word)\n",
    "  total_text.append(\" \".join(seg_list))\n"
   ]
  },
  {
   "cell_type": "code",
   "execution_count": 6,
   "metadata": {
    "colab": {
     "base_uri": "https://localhost:8080/"
    },
    "executionInfo": {
     "elapsed": 9328,
     "status": "ok",
     "timestamp": 1658915843511,
     "user": {
      "displayName": "jonney wong",
      "userId": "03399868621473431933"
     },
     "user_tz": -480
    },
    "id": "dvL2tah4e1xp",
    "outputId": "e9d25ea3-3c9c-4a93-dcbf-3d2ca9334c76"
   },
   "outputs": [
    {
     "name": "stderr",
     "output_type": "stream",
     "text": [
      "100%|██████████| 879/879 [00:09<00:00, 96.52it/s] \n"
     ]
    }
   ],
   "source": [
    "def get_stopwords_list(file_name):\n",
    "    stopwords = [line.strip() for line in open(file_name,encoding='UTF-8').readlines()]\n",
    "    return stopwords\n",
    "def remove_digits(input_str):\n",
    "    punc = u'0123456789.'\n",
    "    output_str = re.sub(r'[{}]+'.format(punc), '', input_str)\n",
    "    return output_str\n",
    "def move_stopwords(sentence_list, stopwords_list):\n",
    "    # 去停用词\n",
    "    out_list = []\n",
    "    for word in sentence_list:\n",
    "        if word not in stopwords_list:\n",
    "            # if not remove_digits(word):\n",
    "            #     continue\n",
    "            if word != '\\t':\n",
    "                out_list.append(word)\n",
    "    return out_list\n",
    "stop_word = get_stopwords_list(\"stopword.txt\")\n",
    "total_tests = []\n",
    "for line in tqdm(total_test[:,0]):\n",
    "  line = line.replace(\"℃\",\"度\").replace(\"T\",\"体温\").replace(\"BP\",\"血压\").replace(\"P\",\"心率\").replace(\"R\",\"呼吸\").replace(\"BMI\",\"体脂\")\n",
    "  line = re.sub('[a-zA-Z]','',line)\n",
    "  # line = re.sub('[\\d]','',line)\n",
    "  line = line.replace(\" \",\"\").replace(\"BP\",\"\").replace(\"mmHg\",\"\").replace(\"nmol\",\"正常\").replace(\"Na\",\"\").replace(\"↓\",\"较低\")\n",
    "  seg_list = jieba.cut(line, cut_all=False, HMM=True)\n",
    "  seg_list = move_stopwords(seg_list,stop_word)\n",
    "  total_tests.append(\" \".join(seg_list))\n"
   ]
  },
  {
   "cell_type": "code",
   "execution_count": 7,
   "metadata": {
    "colab": {
     "base_uri": "https://localhost:8080/"
    },
    "executionInfo": {
     "elapsed": 8739,
     "status": "ok",
     "timestamp": 1658915879447,
     "user": {
      "displayName": "jonney wong",
      "userId": "03399868621473431933"
     },
     "user_tz": -480
    },
    "id": "EPxeLGfnNvHE",
    "outputId": "846551fd-f4a6-422f-9b2d-b26ee81dccc4"
   },
   "outputs": [
    {
     "name": "stderr",
     "output_type": "stream",
     "text": [
      "100%|██████████| 908/908 [00:07<00:00, 116.72it/s]\n"
     ]
    }
   ],
   "source": [
    "\n",
    "def get_stopwords_list(file_name):\n",
    "    stopwords = [line.strip() for line in open(file_name,encoding='UTF-8').readlines()]\n",
    "    return stopwords\n",
    "def remove_digits(input_str):\n",
    "    punc = u'0123456789.'\n",
    "    output_str = re.sub(r'[{}]+'.format(punc), '', input_str)\n",
    "    return output_str\n",
    "def move_stopwords(sentence_list, stopwords_list):\n",
    "    # 去停用词\n",
    "    out_list = []\n",
    "    for word in sentence_list:\n",
    "        if word not in stopwords_list:\n",
    "            # if not remove_digits(word):\n",
    "            #     continue\n",
    "            if word != '\\t':\n",
    "                out_list.append(word)\n",
    "    return out_list\n",
    "stop_word = get_stopwords_list(\"stopword.txt\")\n",
    "total_mtext = []\n",
    "for line in tqdm(temp1[features].values[:,0]):\n",
    "  line = line.replace(\"℃\",\"度\").replace(\"T\",\"体温\").replace(\"BP\",\"血压\").replace(\"P\",\"心率\").replace(\"R\",\"呼吸\").replace(\"BMI\",\"体脂\")\n",
    "  line = line.replace(\" \",\"\").replace(\"BP\",\"\").replace(\"mmHg\",\"\").replace(\"nmol\",\"正常\").replace(\"Na\",\"\").replace(\"↓\",\"较低\")\n",
    "  line = re.sub('[a-zA-Z]','',line)\n",
    "  # line = re.sub('[\\d]','',line)\n",
    "  seg_list = jieba.cut(line, cut_all=False, HMM=True)\n",
    "  seg_list = move_stopwords(seg_list,stop_word)\n",
    "  total_mtext.append(\" \".join(seg_list))\n"
   ]
  },
  {
   "cell_type": "code",
   "execution_count": 8,
   "metadata": {
    "colab": {
     "base_uri": "https://localhost:8080/",
     "height": 109
    },
    "executionInfo": {
     "elapsed": 715,
     "status": "ok",
     "timestamp": 1658915885862,
     "user": {
      "displayName": "jonney wong",
      "userId": "03399868621473431933"
     },
     "user_tz": -480
    },
    "id": "uqlnrHKxHQsC",
    "outputId": "fca3a03f-3e45-4007-9f9a-28e8df78c721"
   },
   "outputs": [
    {
     "data": {
      "application/vnd.google.colaboratory.intrinsic+json": {
       "type": "string"
      },
      "text/plain": [
       "'入院情况:患者因\"口干、多饮、多尿10年，再发1月余\"入院。入院查体:[通科查体]。专科情况：身高185cm，体重112Kg，BMI32.7Kg/m2，双下肢浅感觉无明显减退，双侧足背动脉搏动尚可。    暂缺诊治经过：入院后予完善检查2019-11-28 综合项目:血肌酐（CREA） 58.88(umol/L)，谷草转氨酶（AST） 40.77(U/L)↑，谷丙转氨酶（ALT） 61.29(U/L)↑，总胆红素（T-BILI） 13.36(umol/L)，直接胆红素（D-BILI） 2.83(umol/L)，间接胆红素（T-D BILI） 10.53(umol/L)，白蛋白（ALB） 47.66(g/L)，总胆固醇（CHOL） 4.76(mmol/L)，甘油三脂（TRIG） 3.83(mmol/L)↑，高密度脂蛋白胆固醇（HDL-C） 0.98(mmol/L)，低密度脂蛋白胆固醇（LDL-C） 2.84(mmol/L)，尿酸（UA） 462.80(umol/L)↑；2019-11-28 糖化血红蛋白（HbA1c):红血球糖化血红蛋白（HbA1c）(HPLC法) 7.90(%)↑；2019-11-28 综合项目:甲胎蛋白定量(AFP) 1.69(IU/ML)，癌胚抗原 ( CEA ) 1.63(ng/ml)，胰岛素(INS) 18.46(μU/ml)，糖类抗原  CA 19-9 26.07(u/ml)，C-肽(C-peptide) 2.82(ng/ml)；2019-11-29 ACR:ACR 0.5(mg/mmol)↓；2019-11-30 综合项目:胰岛素(INS) 53.41(μU/ml)↑，C-肽(C-peptide) 6.20(ng/ml)↑；2019-11-28 心肺膈未见异常。2019-11-30 彩超.,脂肪肝。2019-11-30 彩超.,双侧颈动脉、椎动脉未见明显异常。予完善检查，予调糖、改善循环、抗氧化等对症支持治疗。'"
      ]
     },
     "execution_count": 8,
     "metadata": {},
     "output_type": "execute_result"
    }
   ],
   "source": [
    "temp1[\"record\"].values[4]"
   ]
  },
  {
   "cell_type": "code",
   "execution_count": 10,
   "metadata": {
    "colab": {
     "base_uri": "https://localhost:8080/",
     "height": 72
    },
    "executionInfo": {
     "elapsed": 6,
     "status": "ok",
     "timestamp": 1658915907517,
     "user": {
      "displayName": "jonney wong",
      "userId": "03399868621473431933"
     },
     "user_tz": -480
    },
    "id": "ZYjW-JszUf9k",
    "outputId": "8cd185c4-7700-48ef-8cfe-df1f6a270907"
   },
   "outputs": [
    {
     "data": {
      "application/vnd.google.colaboratory.intrinsic+json": {
       "type": "string"
      },
      "text/plain": [
       "'口 干 饮 多尿 10 年 再发 1 月余 查体 通科 查体 身高 185 体重 112 体脂 32.7 2 双下肢 浅 感觉 无 减退 双侧 足 背 动脉 搏动 尚可 暂缺 诊治 后予 检查 2019 11 28 血 肌酐 呼吸 58.88 谷草 转氨酶 体温 40.77 谷丙 转氨酶 体温 61.29 总 胆红素 体温 13.36 直接 胆红素 2.83 间接 胆红素 体温 10.53 白蛋白 47.66 总 胆固醇 4.76 甘油三脂 体温 呼吸 3.83 高密度 脂蛋白 胆固醇 0.98 低密度 脂蛋白 胆固醇 2.84 尿酸 462.80 2019 11 28 糖化 血红蛋白 1 红血球 糖化 血红蛋白 1 心率 法 7.90 2019 11 28 甲胎蛋白 定量 心率 1.69 癌胚抗原 1.63 胰岛素 18.46 糖类 抗原 19 926.07 肽 2.82 2019 11 29 呼吸 呼吸 0.5 低 2019 11 30 胰岛素 53.41 肽 6.20 2019 11 28 心肺 膈 未见异常 2019 11 30 彩超 脂肪肝 2019 11 30 彩超 双侧 颈动脉 椎动脉 未见 异常 予 检查 予调 糖 改善 循环 抗氧化 对症 支持 治疗'"
      ]
     },
     "execution_count": 10,
     "metadata": {},
     "output_type": "execute_result"
    }
   ],
   "source": [
    "total_mtext[4]"
   ]
  },
  {
   "cell_type": "code",
   "execution_count": 11,
   "metadata": {
    "colab": {
     "base_uri": "https://localhost:8080/"
    },
    "executionInfo": {
     "elapsed": 6973,
     "status": "ok",
     "timestamp": 1658915930310,
     "user": {
      "displayName": "jonney wong",
      "userId": "03399868621473431933"
     },
     "user_tz": -480
    },
    "id": "AXkJ7-MGoGmK",
    "outputId": "6b455d80-9ef4-4028-8a1e-06d94a54f8ee"
   },
   "outputs": [
    {
     "name": "stderr",
     "output_type": "stream",
     "text": [
      "100%|██████████| 908/908 [00:07<00:00, 120.21it/s]\n"
     ]
    }
   ],
   "source": [
    "temp_list = []\n",
    "for line in tqdm(temp1[\"record\"].values):\n",
    "  line = line.replace(\"℃\",\"度\").replace(\"T\",\"体温\").replace(\"BP\",\"血压\").replace(\"P\",\"心率\").replace(\"R\",\"呼吸\").replace(\"BMI\",\"体脂\")\n",
    "  line = re.sub('[a-zA-Z]','',line)\n",
    "  # line = re.sub('[\\d]','',line)\n",
    "  line = line.replace(\" \",\"\").replace(\"BP\",\"\").replace(\"mmHg\",\"\").replace(\"nmol\",\"正常\").replace(\"Na\",\"\").replace(\"↓\",\"较低\")\n",
    "  seg_list = jieba.cut(line, cut_all=False, HMM=True)\n",
    "  seg_list = move_stopwords(seg_list,stop_word)\n",
    "  temp_list.append(\"\".join(seg_list))"
   ]
  },
  {
   "cell_type": "code",
   "execution_count": 12,
   "metadata": {
    "executionInfo": {
     "elapsed": 1758,
     "status": "ok",
     "timestamp": 1658915933978,
     "user": {
      "displayName": "jonney wong",
      "userId": "03399868621473431933"
     },
     "user_tz": -480
    },
    "id": "wpFtRuCRnzkg"
   },
   "outputs": [],
   "source": [
    "temp1[\"record已清洗\"] = temp_list\n",
    "temp1.to_excel(\"二次清洗.xlsx\")"
   ]
  },
  {
   "cell_type": "code",
   "execution_count": 13,
   "metadata": {
    "executionInfo": {
     "elapsed": 4,
     "status": "ok",
     "timestamp": 1658915938056,
     "user": {
      "displayName": "jonney wong",
      "userId": "03399868621473431933"
     },
     "user_tz": -480
    },
    "id": "eWZ6By_AmHzC"
   },
   "outputs": [],
   "source": [
    "total_words = []\n",
    "for line in total_text:\n",
    "  for line2 in line.split(\" \"):\n",
    "    total_words.append(line2)\n",
    "total_words = np.reshape(total_words,[-1])"
   ]
  },
  {
   "cell_type": "code",
   "execution_count": 14,
   "metadata": {
    "colab": {
     "base_uri": "https://localhost:8080/"
    },
    "executionInfo": {
     "elapsed": 406,
     "status": "ok",
     "timestamp": 1658915953575,
     "user": {
      "displayName": "jonney wong",
      "userId": "03399868621473431933"
     },
     "user_tz": -480
    },
    "id": "KDsFswOmmGIA",
    "outputId": "bbb05e0b-4f1a-43f9-ab20-6e4f3dc71cce"
   },
   "outputs": [
    {
     "data": {
      "text/plain": [
       "array(['反复', '眩晕', '半天', ..., '出院', '予', '办理'], dtype='<U7')"
      ]
     },
     "execution_count": 14,
     "metadata": {},
     "output_type": "execute_result"
    }
   ],
   "source": [
    "# from collections import Counter\n",
    "# c = Counter(total_words).most_common(2000)\n",
    "c = total_words\n",
    "total_words"
   ]
  },
  {
   "cell_type": "code",
   "execution_count": null,
   "metadata": {
    "id": "qLcV7vzlnlKZ"
   },
   "outputs": [],
   "source": [
    "# with open(\"wordss.txt\",\"w\") as f:\n",
    "#   for line in c:\n",
    "#     f.write(c[0] + \"\\n\")"
   ]
  },
  {
   "cell_type": "markdown",
   "metadata": {
    "id": "6CUKxbFYwMpy"
   },
   "source": [
    "# 分类器"
   ]
  },
  {
   "cell_type": "code",
   "execution_count": 15,
   "metadata": {
    "colab": {
     "base_uri": "https://localhost:8080/"
    },
    "executionInfo": {
     "elapsed": 9656,
     "status": "ok",
     "timestamp": 1658915972742,
     "user": {
      "displayName": "jonney wong",
      "userId": "03399868621473431933"
     },
     "user_tz": -480
    },
    "id": "GNp6wIcW8GCZ",
    "outputId": "83b9242f-55fd-4251-f256-da2b04a4a7a9"
   },
   "outputs": [
    {
     "name": "stdout",
     "output_type": "stream",
     "text": [
      "Looking in indexes: https://pypi.org/simple, https://us-python.pkg.dev/colab-wheels/public/simple/\n",
      "Collecting transformers\n",
      "  Downloading transformers-4.20.1-py3-none-any.whl (4.4 MB)\n",
      "\u001b[K     |████████████████████████████████| 4.4 MB 8.8 MB/s \n",
      "\u001b[?25hCollecting pyyaml>=5.1\n",
      "  Downloading PyYAML-6.0-cp37-cp37m-manylinux_2_5_x86_64.manylinux1_x86_64.manylinux_2_12_x86_64.manylinux2010_x86_64.whl (596 kB)\n",
      "\u001b[K     |████████████████████████████████| 596 kB 50.0 MB/s \n",
      "\u001b[?25hCollecting huggingface-hub<1.0,>=0.1.0\n",
      "  Downloading huggingface_hub-0.8.1-py3-none-any.whl (101 kB)\n",
      "\u001b[K     |████████████████████████████████| 101 kB 12.1 MB/s \n",
      "\u001b[?25hRequirement already satisfied: packaging>=20.0 in /usr/local/lib/python3.7/dist-packages (from transformers) (21.3)\n",
      "Requirement already satisfied: tqdm>=4.27 in /usr/local/lib/python3.7/dist-packages (from transformers) (4.64.0)\n",
      "Requirement already satisfied: regex!=2019.12.17 in /usr/local/lib/python3.7/dist-packages (from transformers) (2022.6.2)\n",
      "Requirement already satisfied: numpy>=1.17 in /usr/local/lib/python3.7/dist-packages (from transformers) (1.21.6)\n",
      "Requirement already satisfied: requests in /usr/local/lib/python3.7/dist-packages (from transformers) (2.23.0)\n",
      "Requirement already satisfied: filelock in /usr/local/lib/python3.7/dist-packages (from transformers) (3.7.1)\n",
      "Requirement already satisfied: importlib-metadata in /usr/local/lib/python3.7/dist-packages (from transformers) (4.12.0)\n",
      "Collecting tokenizers!=0.11.3,<0.13,>=0.11.1\n",
      "  Downloading tokenizers-0.12.1-cp37-cp37m-manylinux_2_12_x86_64.manylinux2010_x86_64.whl (6.6 MB)\n",
      "\u001b[K     |████████████████████████████████| 6.6 MB 39.2 MB/s \n",
      "\u001b[?25hRequirement already satisfied: typing-extensions>=3.7.4.3 in /usr/local/lib/python3.7/dist-packages (from huggingface-hub<1.0,>=0.1.0->transformers) (4.1.1)\n",
      "Requirement already satisfied: pyparsing!=3.0.5,>=2.0.2 in /usr/local/lib/python3.7/dist-packages (from packaging>=20.0->transformers) (3.0.9)\n",
      "Requirement already satisfied: zipp>=0.5 in /usr/local/lib/python3.7/dist-packages (from importlib-metadata->transformers) (3.8.1)\n",
      "Requirement already satisfied: chardet<4,>=3.0.2 in /usr/local/lib/python3.7/dist-packages (from requests->transformers) (3.0.4)\n",
      "Requirement already satisfied: idna<3,>=2.5 in /usr/local/lib/python3.7/dist-packages (from requests->transformers) (2.10)\n",
      "Requirement already satisfied: certifi>=2017.4.17 in /usr/local/lib/python3.7/dist-packages (from requests->transformers) (2022.6.15)\n",
      "Requirement already satisfied: urllib3!=1.25.0,!=1.25.1,<1.26,>=1.21.1 in /usr/local/lib/python3.7/dist-packages (from requests->transformers) (1.24.3)\n",
      "Installing collected packages: pyyaml, tokenizers, huggingface-hub, transformers\n",
      "  Attempting uninstall: pyyaml\n",
      "    Found existing installation: PyYAML 3.13\n",
      "    Uninstalling PyYAML-3.13:\n",
      "      Successfully uninstalled PyYAML-3.13\n",
      "Successfully installed huggingface-hub-0.8.1 pyyaml-6.0 tokenizers-0.12.1 transformers-4.20.1\n"
     ]
    }
   ],
   "source": [
    "!pip install transformers boto3 requests regex sentencepiece sacremoses"
   ]
  },
  {
   "cell_type": "code",
   "execution_count": 19,
   "metadata": {
    "executionInfo": {
     "elapsed": 4,
     "status": "ok",
     "timestamp": 1658916002072,
     "user": {
      "displayName": "jonney wong",
      "userId": "03399868621473431933"
     },
     "user_tz": -480
    },
    "id": "wMelC2eO9Cnj"
   },
   "outputs": [],
   "source": [
    "total_trains = [\"\".join(line) for line in total_mtext]\n",
    "total_tests = [\"\".join(line) for line in total_tests]"
   ]
  },
  {
   "cell_type": "code",
   "execution_count": 39,
   "metadata": {
    "colab": {
     "base_uri": "https://localhost:8080/"
    },
    "executionInfo": {
     "elapsed": 5236,
     "status": "ok",
     "timestamp": 1658916379752,
     "user": {
      "displayName": "jonney wong",
      "userId": "03399868621473431933"
     },
     "user_tz": -480
    },
    "id": "ZZJ3zOBWpxKx",
    "outputId": "d9235ac1-b7a7-4781-a29f-89356aa24322"
   },
   "outputs": [
    {
     "name": "stderr",
     "output_type": "stream",
     "text": [
      "loading configuration file https://huggingface.co/Raychanan/bert-base-chinese-FineTuned-Binary-Best/resolve/main/config.json from cache at /root/.cache/huggingface/transformers/4f6f71c15282671a6e705c3b0189acb22296cda42b71b683e6fa1d766842765c.b561757f9ff55e56d68e64c6874deba4ec8424d1de1ae89d7645d08d96b09448\n",
      "Model config BertConfig {\n",
      "  \"_name_or_path\": \"Raychanan/bert-base-chinese-FineTuned-Binary-Best\",\n",
      "  \"architectures\": [\n",
      "    \"BertForSequenceClassification\"\n",
      "  ],\n",
      "  \"attention_probs_dropout_prob\": 0.1,\n",
      "  \"classifier_dropout\": null,\n",
      "  \"directionality\": \"bidi\",\n",
      "  \"gradient_checkpointing\": false,\n",
      "  \"hidden_act\": \"gelu\",\n",
      "  \"hidden_dropout_prob\": 0.1,\n",
      "  \"hidden_size\": 768,\n",
      "  \"initializer_range\": 0.02,\n",
      "  \"intermediate_size\": 3072,\n",
      "  \"layer_norm_eps\": 1e-12,\n",
      "  \"max_position_embeddings\": 512,\n",
      "  \"model_type\": \"bert\",\n",
      "  \"num_attention_heads\": 12,\n",
      "  \"num_hidden_layers\": 12,\n",
      "  \"pad_token_id\": 0,\n",
      "  \"pooler_fc_size\": 768,\n",
      "  \"pooler_num_attention_heads\": 12,\n",
      "  \"pooler_num_fc_layers\": 3,\n",
      "  \"pooler_size_per_head\": 128,\n",
      "  \"pooler_type\": \"first_token_transform\",\n",
      "  \"position_embedding_type\": \"absolute\",\n",
      "  \"transformers_version\": \"4.20.1\",\n",
      "  \"type_vocab_size\": 2,\n",
      "  \"use_cache\": true,\n",
      "  \"vocab_size\": 21128\n",
      "}\n",
      "\n",
      "loading file https://huggingface.co/Raychanan/bert-base-chinese-FineTuned-Binary-Best/resolve/main/vocab.txt from cache at /root/.cache/huggingface/transformers/1b491c4be08c0a50bc7bf6d26c56f03b9a706949f7d630b3e53ea2ecf71b7394.accd894ff58c6ff7bd4f3072890776c14f4ea34fcc08e79cd88c2d157756dceb\n",
      "loading file https://huggingface.co/Raychanan/bert-base-chinese-FineTuned-Binary-Best/resolve/main/tokenizer.json from cache at None\n",
      "loading file https://huggingface.co/Raychanan/bert-base-chinese-FineTuned-Binary-Best/resolve/main/added_tokens.json from cache at None\n",
      "loading file https://huggingface.co/Raychanan/bert-base-chinese-FineTuned-Binary-Best/resolve/main/special_tokens_map.json from cache at /root/.cache/huggingface/transformers/1ef5dc237c549e8fee02d71e853a798fff17a4c39ddfdc1610c8b7258ab025c0.dd8bd9bfd3664b530ea4e645105f557769387b3da9f79bdb55ed556bdd80611d\n",
      "loading file https://huggingface.co/Raychanan/bert-base-chinese-FineTuned-Binary-Best/resolve/main/tokenizer_config.json from cache at /root/.cache/huggingface/transformers/6c9ad4516551b80e867c3d265c0d063d9b195b632d99a9881a7293fd6f1c21be.aa440a1dcb8b716fe48e2321e57af5f10c36c4442434083c9a0ee088bd5029a9\n",
      "loading configuration file https://huggingface.co/Raychanan/bert-base-chinese-FineTuned-Binary-Best/resolve/main/config.json from cache at /root/.cache/huggingface/transformers/4f6f71c15282671a6e705c3b0189acb22296cda42b71b683e6fa1d766842765c.b561757f9ff55e56d68e64c6874deba4ec8424d1de1ae89d7645d08d96b09448\n",
      "Model config BertConfig {\n",
      "  \"_name_or_path\": \"Raychanan/bert-base-chinese-FineTuned-Binary-Best\",\n",
      "  \"architectures\": [\n",
      "    \"BertForSequenceClassification\"\n",
      "  ],\n",
      "  \"attention_probs_dropout_prob\": 0.1,\n",
      "  \"classifier_dropout\": null,\n",
      "  \"directionality\": \"bidi\",\n",
      "  \"gradient_checkpointing\": false,\n",
      "  \"hidden_act\": \"gelu\",\n",
      "  \"hidden_dropout_prob\": 0.1,\n",
      "  \"hidden_size\": 768,\n",
      "  \"initializer_range\": 0.02,\n",
      "  \"intermediate_size\": 3072,\n",
      "  \"layer_norm_eps\": 1e-12,\n",
      "  \"max_position_embeddings\": 512,\n",
      "  \"model_type\": \"bert\",\n",
      "  \"num_attention_heads\": 12,\n",
      "  \"num_hidden_layers\": 12,\n",
      "  \"pad_token_id\": 0,\n",
      "  \"pooler_fc_size\": 768,\n",
      "  \"pooler_num_attention_heads\": 12,\n",
      "  \"pooler_num_fc_layers\": 3,\n",
      "  \"pooler_size_per_head\": 128,\n",
      "  \"pooler_type\": \"first_token_transform\",\n",
      "  \"position_embedding_type\": \"absolute\",\n",
      "  \"transformers_version\": \"4.20.1\",\n",
      "  \"type_vocab_size\": 2,\n",
      "  \"use_cache\": true,\n",
      "  \"vocab_size\": 21128\n",
      "}\n",
      "\n",
      "loading configuration file https://huggingface.co/Raychanan/bert-base-chinese-FineTuned-Binary-Best/resolve/main/config.json from cache at /root/.cache/huggingface/transformers/4f6f71c15282671a6e705c3b0189acb22296cda42b71b683e6fa1d766842765c.b561757f9ff55e56d68e64c6874deba4ec8424d1de1ae89d7645d08d96b09448\n",
      "Model config BertConfig {\n",
      "  \"_name_or_path\": \"Raychanan/bert-base-chinese-FineTuned-Binary-Best\",\n",
      "  \"architectures\": [\n",
      "    \"BertForSequenceClassification\"\n",
      "  ],\n",
      "  \"attention_probs_dropout_prob\": 0.1,\n",
      "  \"classifier_dropout\": null,\n",
      "  \"directionality\": \"bidi\",\n",
      "  \"gradient_checkpointing\": false,\n",
      "  \"hidden_act\": \"gelu\",\n",
      "  \"hidden_dropout_prob\": 0.1,\n",
      "  \"hidden_size\": 768,\n",
      "  \"initializer_range\": 0.02,\n",
      "  \"intermediate_size\": 3072,\n",
      "  \"layer_norm_eps\": 1e-12,\n",
      "  \"max_position_embeddings\": 512,\n",
      "  \"model_type\": \"bert\",\n",
      "  \"num_attention_heads\": 12,\n",
      "  \"num_hidden_layers\": 12,\n",
      "  \"pad_token_id\": 0,\n",
      "  \"pooler_fc_size\": 768,\n",
      "  \"pooler_num_attention_heads\": 12,\n",
      "  \"pooler_num_fc_layers\": 3,\n",
      "  \"pooler_size_per_head\": 128,\n",
      "  \"pooler_type\": \"first_token_transform\",\n",
      "  \"position_embedding_type\": \"absolute\",\n",
      "  \"transformers_version\": \"4.20.1\",\n",
      "  \"type_vocab_size\": 2,\n",
      "  \"use_cache\": true,\n",
      "  \"vocab_size\": 21128\n",
      "}\n",
      "\n",
      "loading configuration file https://huggingface.co/Raychanan/bert-base-chinese-FineTuned-Binary-Best/resolve/main/config.json from cache at /root/.cache/huggingface/transformers/4f6f71c15282671a6e705c3b0189acb22296cda42b71b683e6fa1d766842765c.b561757f9ff55e56d68e64c6874deba4ec8424d1de1ae89d7645d08d96b09448\n",
      "Model config BertConfig {\n",
      "  \"_name_or_path\": \"bert-base-chinese\",\n",
      "  \"architectures\": [\n",
      "    \"BertForSequenceClassification\"\n",
      "  ],\n",
      "  \"attention_probs_dropout_prob\": 0.1,\n",
      "  \"classifier_dropout\": null,\n",
      "  \"directionality\": \"bidi\",\n",
      "  \"gradient_checkpointing\": false,\n",
      "  \"hidden_act\": \"gelu\",\n",
      "  \"hidden_dropout_prob\": 0.1,\n",
      "  \"hidden_size\": 768,\n",
      "  \"initializer_range\": 0.02,\n",
      "  \"intermediate_size\": 3072,\n",
      "  \"layer_norm_eps\": 1e-12,\n",
      "  \"max_position_embeddings\": 512,\n",
      "  \"model_type\": \"bert\",\n",
      "  \"num_attention_heads\": 12,\n",
      "  \"num_hidden_layers\": 12,\n",
      "  \"pad_token_id\": 0,\n",
      "  \"pooler_fc_size\": 768,\n",
      "  \"pooler_num_attention_heads\": 12,\n",
      "  \"pooler_num_fc_layers\": 3,\n",
      "  \"pooler_size_per_head\": 128,\n",
      "  \"pooler_type\": \"first_token_transform\",\n",
      "  \"position_embedding_type\": \"absolute\",\n",
      "  \"transformers_version\": \"4.20.1\",\n",
      "  \"type_vocab_size\": 2,\n",
      "  \"use_cache\": true,\n",
      "  \"vocab_size\": 21128\n",
      "}\n",
      "\n",
      "loading weights file https://huggingface.co/Raychanan/bert-base-chinese-FineTuned-Binary-Best/resolve/main/pytorch_model.bin from cache at /root/.cache/huggingface/transformers/97f1bd1d5fcbf2045ddbbd21275f3aed95dd9b17bba2f9bccf2d91daf6270bb1.41811db38372f8f1b3051cb0c3a039357c13651682691461e5f272a7e24e0d1a\n",
      "All model checkpoint weights were used when initializing BertForSequenceClassification.\n",
      "\n",
      "All the weights of BertForSequenceClassification were initialized from the model checkpoint at Raychanan/bert-base-chinese-FineTuned-Binary-Best.\n",
      "If your task is similar to the task the model of the checkpoint was trained on, you can already use BertForSequenceClassification for predictions without further training.\n"
     ]
    },
    {
     "name": "stdout",
     "output_type": "stream",
     "text": [
      "\n"
     ]
    }
   ],
   "source": [
    "import os.path\n",
    "from typing import Iterator\n",
    "\n",
    "import numpy as np\n",
    "import torch\n",
    "import cv2\n",
    "from PIL import Image\n",
    "from torch.utils.data import Dataset,DataLoader\n",
    "import re\n",
    "from functools import reduce\n",
    "from torch.utils.tensorboard import SummaryWriter as Writer\n",
    "from torchvision import transforms\n",
    "import torchvision as tv\n",
    "from torch import nn\n",
    "import torch.nn.functional as F\n",
    "from transformers import BertForSequenceClassification\n",
    "import torch\n",
    "from tqdm import tqdm\n",
    "import random\n",
    "random.seed(2022)\n",
    "activation = []\n",
    "p = []\n",
    "def get_activation(name):\n",
    "  def hook(model, input, output):\n",
    "    activation.append(output.cpu().detach())\n",
    "  return hook\n",
    "from tqdm import tqdm\n",
    "import numpy as np\n",
    "# model.training = False\n",
    "# model.cpu()\n",
    "#官方封装好的bert+下游任务\n",
    "from transformers import AutoTokenizer\n",
    "model_name = 'uer/roberta-base-finetuned-chinanews-chinese'\n",
    "model_name = \"Raychanan/bert-base-chinese-FineTuned-Binary-Best\"\n",
    "tokenizer = AutoTokenizer.from_pretrained(model_name)\n",
    "model = BertForSequenceClassification.from_pretrained(model_name, return_dict=True)\n",
    "# model.load_state_dict(torch.load(\"roberta_model.pth\"))\n",
    "\n",
    "model.classifier = nn.Sequential(nn.Linear(768,64),nn.ReLU(),nn.Dropout(),nn.Linear(64,10),nn.Sigmoid())\n",
    "\n",
    "# model.classifier = nn.Linear(768,10)\n",
    "\n",
    "# model.classifier.add_module('outActivate',nn.Sigmoid())\n",
    "model.num_labels = 10\n",
    "model.cuda()\n",
    "print()"
   ]
  },
  {
   "cell_type": "code",
   "execution_count": 21,
   "metadata": {
    "executionInfo": {
     "elapsed": 386,
     "status": "ok",
     "timestamp": 1658916039775,
     "user": {
      "displayName": "jonney wong",
      "userId": "03399868621473431933"
     },
     "user_tz": -480
    },
    "id": "_DUGlJ7y6wqM"
   },
   "outputs": [],
   "source": [
    "import random\n",
    "def get_batch(data,label,batch_size = 2):\n",
    "  batch_data = []\n",
    "  batch_label = []\n",
    "  cc = list(zip(data, label))\n",
    "  random.shuffle(cc)\n",
    "  data[:], label[:] = zip(*cc)\n",
    "  for i in range(len(label)):\n",
    "    batch_data.append(data[i])\n",
    "    batch_label.append(label[i])\n",
    "    if (i+1) % batch_size == 0:\n",
    "      yield batch_data, batch_label\n",
    "      batch_data = []\n",
    "      batch_label = []\n",
    "def get_test_batch(data,label,batch_size = 2):\n",
    "  batch_data = []\n",
    "  batch_label = []\n",
    "  for i in range(len(label)):\n",
    "    batch_data.append(data[i])\n",
    "    batch_label.append(label[i])\n",
    "    if (i+1) % batch_size == 0:\n",
    "      yield batch_data, batch_label\n",
    "      batch_data = []\n",
    "      batch_label = []"
   ]
  },
  {
   "cell_type": "code",
   "execution_count": 28,
   "metadata": {
    "executionInfo": {
     "elapsed": 553,
     "status": "ok",
     "timestamp": 1658916102968,
     "user": {
      "displayName": "jonney wong",
      "userId": "03399868621473431933"
     },
     "user_tz": -480
    },
    "id": "NABLaT7Zp8AX"
   },
   "outputs": [],
   "source": [
    "from transformers import AdamW\n",
    "def train(model,train_config):\n",
    "  model.train()\n",
    "  model.config.problem_type = train_config['problem_type']\n",
    "  log_interval = train_config[\"epoch\"] // 100\n",
    "  train_losses = []\n",
    "  for i in range(train_config[\"epoch\"]):\n",
    "    total_out = []\n",
    "    total_label = []\n",
    "    for batch_idx, (texts, label) in tqdm(enumerate(train_config[\"data_loader\"](train_config[\"texts\"],train_config[\"labels\"],train_config[\"batch_size\"])),ncols=50,total=train_config[\"data_len\"]//train_config[\"batch_size\"]):\n",
    "      train_config[\"optimizer\"].zero_grad()\n",
    "      label = np.array(label).astype(np.int)\n",
    "      encoded_inputs = tokenizer(texts,padding=True,max_length=256,truncation=True)\n",
    "      input_ids = torch.from_numpy(np.array(encoded_inputs['input_ids'])).cuda()\n",
    "      attention_mask = torch.from_numpy(np.array(encoded_inputs['attention_mask'])).cuda()\n",
    "      labels = torch.tensor(label).unsqueeze(0).cuda().float().view(-1, 10)\n",
    "      outputs = model(input_ids, attention_mask=attention_mask,labels = labels)\n",
    "      loss = outputs.loss\n",
    "      loss.backward()\n",
    "      train_config[\"optimizer\"].step()\n",
    "      total_out.append(outputs.get('logits').cpu().detach().numpy())\n",
    "      total_label.append(label)\n",
    "    total_out = np.reshape(total_out,[-1])\n",
    "    total_label = np.reshape(total_label,[-1])\n",
    "    \n",
    "    total_out[total_out > 0.5] = 1\n",
    "    total_out[total_out <= 0.5] = 0\n",
    "    total_bool = total_out == total_label\n",
    "    acc = np.sum(total_bool) / len(total_bool)\n",
    "    print('Train Epoch: {} \\tLoss: {:.6f}\\tAcc: {:.6f}'.format(i, loss.item(),acc))\n",
    "    train_losses.append(loss.item())\n",
    "    torch.save(model.state_dict(), './newmodel' + str() + '.pth')\n",
    "  return train_losses"
   ]
  },
  {
   "cell_type": "code",
   "execution_count": null,
   "metadata": {
    "id": "0wwiimP-h1SP"
   },
   "outputs": [],
   "source": [
    "# acc, out = test(model.cuda(),train_config)"
   ]
  },
  {
   "cell_type": "code",
   "execution_count": null,
   "metadata": {
    "id": "Jxakv4LXh7yU"
   },
   "outputs": [],
   "source": [
    "# for i,line in enumerate(out[1].reshape([-1,10])):\n",
    "#   print(i,line)\n",
    "#   print(out[0].reshape([-1,10])[i])"
   ]
  },
  {
   "cell_type": "code",
   "execution_count": null,
   "metadata": {
    "id": "GTuZcYVpiORQ"
   },
   "outputs": [],
   "source": [
    "# for i,line in enumerate(out[0].reshape([-1,10])):\n",
    "#   print(i,line)"
   ]
  },
  {
   "cell_type": "code",
   "execution_count": 24,
   "metadata": {
    "executionInfo": {
     "elapsed": 470,
     "status": "ok",
     "timestamp": 1658916075818,
     "user": {
      "displayName": "jonney wong",
      "userId": "03399868621473431933"
     },
     "user_tz": -480
    },
    "id": "JOjcYAcMRu7-"
   },
   "outputs": [],
   "source": [
    "test_config = {\"data_loader\":get_test_batch,\n",
    "                \"texts\":total_tests,\n",
    "                \"labels\":total_test[:,-10:],\n",
    "                \"problem_type\":\"multi_label_classification\",\n",
    "                \"batch_size\":1,\n",
    "                \"data_len\":len(total_mtext)\n",
    "}\n",
    "\n",
    "# class_count = np.sum(y_test.values,axis=0)\n",
    "# sample_num = np.sum(class_count)\n",
    "# class_weights = 1 - (class_count / sample_num) ** 0.1\n",
    "# class_weights"
   ]
  },
  {
   "cell_type": "code",
   "execution_count": 25,
   "metadata": {
    "executionInfo": {
     "elapsed": 407,
     "status": "ok",
     "timestamp": 1658916079813,
     "user": {
      "displayName": "jonney wong",
      "userId": "03399868621473431933"
     },
     "user_tz": -480
    },
    "id": "BAfEMM8v6lQC"
   },
   "outputs": [],
   "source": [
    "# class_weights = [0.52,0.40666045,0.00025888075,0.0003463762,0.00018906518,8.143093e-05,0.0058766235,1.42680889e-04,0.0068581289,0.00019460973]\n",
    "\n",
    "class_weights = [9.9972576e-01,7.0451375e-04,9.8581970e-01,6.0227612e-05,5.7704584e-04,8.2804778e-05,5.5628183e-04,8.8318533e-01,4.3602899e-04,1.2453539e-04]"
   ]
  },
  {
   "cell_type": "code",
   "execution_count": 26,
   "metadata": {
    "executionInfo": {
     "elapsed": 4,
     "status": "ok",
     "timestamp": 1658916079814,
     "user": {
      "displayName": "jonney wong",
      "userId": "03399868621473431933"
     },
     "user_tz": -480
    },
    "id": "1UWzWrCZsYO4"
   },
   "outputs": [],
   "source": [
    "from copy import deepcopy\n",
    "def test(model,test_config):\n",
    "  total_out = []\n",
    "  total_label = []\n",
    "  model.eval()\n",
    "  wout = []\n",
    "  model.config.problem_type = test_config['problem_type']\n",
    "  for batch_idx, (texts, label) in tqdm(enumerate(test_config[\"data_loader\"](test_config[\"texts\"],test_config[\"labels\"],test_config[\"batch_size\"])),ncols=50,total=test_config[\"data_len\"]//test_config[\"batch_size\"]):\n",
    "    encoded_inputs = tokenizer(texts,padding=True,max_length=256,truncation=True)\n",
    "    input_ids = torch.from_numpy(np.array(encoded_inputs['input_ids'])).cuda()\n",
    "    attention_mask = torch.from_numpy(np.array(encoded_inputs['attention_mask'])).cuda()\n",
    "    outputs = model(input_ids, attention_mask=attention_mask)\n",
    "    outputs = outputs.get('logits').cpu().detach().numpy()\n",
    "\n",
    "    # for line in outputs:\n",
    "    #   wout.append(np.reshape(line,[-1]))\n",
    "    # outputs = wout\n",
    "    total_out.append(outputs)\n",
    "    total_label.append(label)\n",
    "    # print(np.shape(wout))\n",
    "  total_out = np.concatenate(total_out,axis = 0)\n",
    "  total_label = np.concatenate(total_label,axis = 0)\n",
    "  # total_out = np.array(total_out)\n",
    "  # total_label = np.array(total_label)\n",
    "  total_wout = []\n",
    "  # print(total_out)\n",
    "  for i, line in enumerate(tqdm(class_weights)):\n",
    "    temp = deepcopy(total_out[:,i])\n",
    "    temp[temp > line] = 1\n",
    "    temp[temp <= line] = 0\n",
    "    total_wout.append(temp)\n",
    "  total_wouts = np.reshape(deepcopy(total_wout),[-1])\n",
    "  \n",
    "  total_label = np.reshape(total_label,[-1])\n",
    "  total_bool = total_wouts == total_label\n",
    "  # print(deepcopy(total_wout))\n",
    "  acc = np.sum(total_bool) / len(total_bool)\n",
    "  accs = []\n",
    "  for i in range(10):\n",
    "    temp_bool = np.array(total_wout).T[:,i] == np.array(total_label).reshape([-1,10])[:,i]\n",
    "    accs.append(np.sum(temp_bool)/len(temp_bool))\n",
    "  return [acc,accs], [total_wout,total_label,total_out]"
   ]
  },
  {
   "cell_type": "code",
   "execution_count": 29,
   "metadata": {
    "colab": {
     "base_uri": "https://localhost:8080/"
    },
    "executionInfo": {
     "elapsed": 5339,
     "status": "ok",
     "timestamp": 1658916111431,
     "user": {
      "displayName": "jonney wong",
      "userId": "03399868621473431933"
     },
     "user_tz": -480
    },
    "id": "VddgZS1DWoxn",
    "outputId": "93239f3b-0233-460e-8d86-a2d98929bfbb"
   },
   "outputs": [
    {
     "name": "stderr",
     "output_type": "stream",
     "text": [
      "/usr/local/lib/python3.7/dist-packages/transformers/optimization.py:310: FutureWarning: This implementation of AdamW is deprecated and will be removed in a future version. Use the PyTorch implementation torch.optim.AdamW instead, or set `no_deprecation_warning=True` to disable this warning\n",
      "  FutureWarning,\n",
      "  3%|▍           | 29/908 [00:03<01:34,  9.28it/s]\n",
      "100%|██████████| 10/10 [00:00<00:00, 7576.42it/s]\n"
     ]
    },
    {
     "data": {
      "text/plain": [
       "[0.4793103448275862,\n",
       " [0.2413793103448276,\n",
       "  0.7586206896551724,\n",
       "  0.6551724137931034,\n",
       "  0.6551724137931034,\n",
       "  0.5172413793103449,\n",
       "  0.41379310344827586,\n",
       "  0.5172413793103449,\n",
       "  0.27586206896551724,\n",
       "  0.2413793103448276,\n",
       "  0.034482758620689655]]"
      ]
     },
     "execution_count": 29,
     "metadata": {},
     "output_type": "execute_result"
    }
   ],
   "source": [
    "# 训练集的初始准确率\n",
    "train_config = {\"data_loader\":get_batch,\n",
    "                \"texts\":total_trains,\n",
    "                \"labels\":total_data[:,1:],\n",
    "                \"problem_type\":\"multi_label_classification\",\n",
    "                \"batch_size\":1,\n",
    "                \"optimizer\":AdamW(filter(lambda p: p.requires_grad, model.parameters()), lr=1e-4),\n",
    "                \"epoch\":10,\n",
    "                \"data_len\":len(total_trains)\n",
    "}\n",
    "acc, out = test(model.cuda(),train_config)\n",
    "acc"
   ]
  },
  {
   "cell_type": "code",
   "execution_count": 30,
   "metadata": {
    "colab": {
     "base_uri": "https://localhost:8080/"
    },
    "executionInfo": {
     "elapsed": 710,
     "status": "ok",
     "timestamp": 1658916121240,
     "user": {
      "displayName": "jonney wong",
      "userId": "03399868621473431933"
     },
     "user_tz": -480
    },
    "id": "h-IE_s97KaAB",
    "outputId": "c3981a29-3e8f-458c-df73-10b92deacd14"
   },
   "outputs": [
    {
     "data": {
      "text/plain": [
       "[0.5228079,\n",
       " 0.51923776,\n",
       " 0.4976082,\n",
       " 0.5676511,\n",
       " 0.46587119,\n",
       " 0.4878808,\n",
       " 0.45742437,\n",
       " 0.54190624,\n",
       " 0.4662756,\n",
       " 0.45725706]"
      ]
     },
     "execution_count": 30,
     "metadata": {},
     "output_type": "execute_result"
    }
   ],
   "source": [
    "# 观察可能的最优权重分布\n",
    "weiths = []\n",
    "for i in range(10):\n",
    "  weiths.append(out[2][:,i].mean())\n",
    "\n",
    "class_weights = weiths\n",
    "class_weights"
   ]
  },
  {
   "cell_type": "code",
   "execution_count": 31,
   "metadata": {
    "executionInfo": {
     "elapsed": 387,
     "status": "ok",
     "timestamp": 1658916162841,
     "user": {
      "displayName": "jonney wong",
      "userId": "03399868621473431933"
     },
     "user_tz": -480
    },
    "id": "Kz4P3HZ6fyUL"
   },
   "outputs": [],
   "source": [
    "class_weights = [9.2972576e-01,5.2451375e-04,9.8281970e-01,6.0227612e-05,5.7704584e-04,8.2804778e-05,5.5628183e-04,8.9218533e-01,4.3602899e-04,1.2453539e-04]"
   ]
  },
  {
   "cell_type": "code",
   "execution_count": 32,
   "metadata": {
    "colab": {
     "base_uri": "https://localhost:8080/"
    },
    "executionInfo": {
     "elapsed": 13883,
     "status": "ok",
     "timestamp": 1658916178370,
     "user": {
      "displayName": "jonney wong",
      "userId": "03399868621473431933"
     },
     "user_tz": -480
    },
    "id": "G2lFyO6EKMzA",
    "outputId": "3db90c6e-95d5-4c2a-90d1-b7ec3e06b42a"
   },
   "outputs": [
    {
     "name": "stderr",
     "output_type": "stream",
     "text": [
      " 97%|██████████▋| 879/908 [00:13<00:00, 62.99it/s]\n",
      "100%|██████████| 10/10 [00:00<00:00, 5060.08it/s]\n"
     ]
    },
    {
     "data": {
      "text/plain": [
       "[0.4171786120591581,\n",
       " [0.1547212741751991,\n",
       "  0.6313993174061433,\n",
       "  0.4300341296928328,\n",
       "  0.07394766780432309,\n",
       "  0.1342434584755404,\n",
       "  0.080773606370876,\n",
       "  0.09783845278725825,\n",
       "  0.6348122866894198,\n",
       "  0.06598407281001138,\n",
       "  0.027303754266211604]]"
      ]
     },
     "execution_count": 32,
     "metadata": {},
     "output_type": "execute_result"
    }
   ],
   "source": [
    "# 测试集的初始准确率\n",
    "acc, out = test(model.cuda(),test_config)\n",
    "acc"
   ]
  },
  {
   "cell_type": "code",
   "execution_count": 34,
   "metadata": {
    "executionInfo": {
     "elapsed": 731,
     "status": "ok",
     "timestamp": 1658916226167,
     "user": {
      "displayName": "jonney wong",
      "userId": "03399868621473431933"
     },
     "user_tz": -480
    },
    "id": "crWffQoZjL1C"
   },
   "outputs": [],
   "source": [
    "total_trains = np.concatenate([total_trains,total_tests[:20]],axis = 0)\n",
    "total_data = np.concatenate([total_data,total_test[:20]],axis = 0)"
   ]
  },
  {
   "cell_type": "code",
   "execution_count": 40,
   "metadata": {
    "colab": {
     "base_uri": "https://localhost:8080/"
    },
    "executionInfo": {
     "elapsed": 18870,
     "status": "ok",
     "timestamp": 1658916404355,
     "user": {
      "displayName": "jonney wong",
      "userId": "03399868621473431933"
     },
     "user_tz": -480
    },
    "id": "hENxVVtDbwYv",
    "outputId": "9f877ebc-022c-43fc-eb7d-75fb86808ccf"
   },
   "outputs": [
    {
     "name": "stderr",
     "output_type": "stream",
     "text": [
      "/usr/local/lib/python3.7/dist-packages/transformers/optimization.py:310: FutureWarning: This implementation of AdamW is deprecated and will be removed in a future version. Use the PyTorch implementation torch.optim.AdamW instead, or set `no_deprecation_warning=True` to disable this warning\n",
      "  FutureWarning,\n",
      "  0%|                      | 0/49 [00:00<?, ?it/s]/usr/local/lib/python3.7/dist-packages/ipykernel_launcher.py:12: DeprecationWarning: `np.int` is a deprecated alias for the builtin `int`. To silence this warning, use `int` by itself. Doing this will not modify any behavior and is safe. When replacing `np.int`, you may wish to use e.g. `np.int64` or `np.int32` to specify the precision. If you wish to review your current use, check the release note link for additional information.\n",
      "Deprecated in NumPy 1.20; for more details and guidance: https://numpy.org/devdocs/release/1.20.0-notes.html#deprecations\n",
      "  if sys.path[0] == '':\n",
      "100%|█████████████| 49/49 [00:00<00:00, 59.70it/s]\n"
     ]
    },
    {
     "name": "stdout",
     "output_type": "stream",
     "text": [
      "Train Epoch: 0 \tLoss: 0.735011\tAcc: 0.534694\n"
     ]
    },
    {
     "name": "stderr",
     "output_type": "stream",
     "text": [
      "100%|█████████████| 49/49 [00:00<00:00, 59.11it/s]\n"
     ]
    },
    {
     "name": "stdout",
     "output_type": "stream",
     "text": [
      "Train Epoch: 1 \tLoss: 0.741625\tAcc: 0.646939\n"
     ]
    },
    {
     "name": "stderr",
     "output_type": "stream",
     "text": [
      "100%|█████████████| 49/49 [00:00<00:00, 58.41it/s]\n"
     ]
    },
    {
     "name": "stdout",
     "output_type": "stream",
     "text": [
      "Train Epoch: 2 \tLoss: 0.760455\tAcc: 0.775510\n"
     ]
    },
    {
     "name": "stderr",
     "output_type": "stream",
     "text": [
      "100%|█████████████| 49/49 [00:00<00:00, 58.16it/s]\n"
     ]
    },
    {
     "name": "stdout",
     "output_type": "stream",
     "text": [
      "Train Epoch: 3 \tLoss: 0.667780\tAcc: 0.865306\n"
     ]
    },
    {
     "name": "stderr",
     "output_type": "stream",
     "text": [
      "100%|█████████████| 49/49 [00:00<00:00, 56.99it/s]\n"
     ]
    },
    {
     "name": "stdout",
     "output_type": "stream",
     "text": [
      "Train Epoch: 4 \tLoss: 0.652764\tAcc: 0.885714\n"
     ]
    },
    {
     "name": "stderr",
     "output_type": "stream",
     "text": [
      "100%|█████████████| 49/49 [00:00<00:00, 57.93it/s]\n"
     ]
    },
    {
     "name": "stdout",
     "output_type": "stream",
     "text": [
      "Train Epoch: 5 \tLoss: 0.630217\tAcc: 0.936735\n"
     ]
    },
    {
     "name": "stderr",
     "output_type": "stream",
     "text": [
      "100%|█████████████| 49/49 [00:00<00:00, 59.91it/s]\n"
     ]
    },
    {
     "name": "stdout",
     "output_type": "stream",
     "text": [
      "Train Epoch: 6 \tLoss: 0.594879\tAcc: 0.948980\n"
     ]
    },
    {
     "name": "stderr",
     "output_type": "stream",
     "text": [
      "100%|█████████████| 49/49 [00:00<00:00, 58.03it/s]\n"
     ]
    },
    {
     "name": "stdout",
     "output_type": "stream",
     "text": [
      "Train Epoch: 7 \tLoss: 0.587609\tAcc: 0.955102\n"
     ]
    },
    {
     "name": "stderr",
     "output_type": "stream",
     "text": [
      "100%|█████████████| 49/49 [00:00<00:00, 59.34it/s]\n"
     ]
    },
    {
     "name": "stdout",
     "output_type": "stream",
     "text": [
      "Train Epoch: 8 \tLoss: 0.582700\tAcc: 0.975510\n"
     ]
    },
    {
     "name": "stderr",
     "output_type": "stream",
     "text": [
      "100%|█████████████| 49/49 [00:00<00:00, 58.05it/s]\n"
     ]
    },
    {
     "name": "stdout",
     "output_type": "stream",
     "text": [
      "Train Epoch: 9 \tLoss: 0.584120\tAcc: 0.985714\n"
     ]
    }
   ],
   "source": [
    "# 解冻最后4层fineturn\n",
    "\n",
    "total_param_name = []\n",
    "for param in model.named_parameters():\n",
    "  total_param_name.append(param[0])\n",
    "for param in model.named_parameters():\n",
    "    if param[0] in total_param_name[:-4]:\n",
    "        param[1].requires_grad = False\n",
    "    else:\n",
    "        param[1].requires_grad = True\n",
    "\n",
    "train_config = {\"data_loader\":get_batch,\n",
    "                \"texts\":total_trains,\n",
    "                \"labels\":total_data[:,1:],\n",
    "                \"problem_type\":\"multi_label_classification\",\n",
    "                \"batch_size\":1,\n",
    "                \"optimizer\":AdamW(filter(lambda p: p.requires_grad, model.parameters()), lr=1e-4),\n",
    "                \"epoch\":10,\n",
    "                \"data_len\":len(total_trains)\n",
    "}\n",
    "losses = train(model.cuda(),train_config)"
   ]
  },
  {
   "cell_type": "code",
   "execution_count": 42,
   "metadata": {
    "colab": {
     "base_uri": "https://localhost:8080/"
    },
    "executionInfo": {
     "elapsed": 626,
     "status": "ok",
     "timestamp": 1658916457256,
     "user": {
      "displayName": "jonney wong",
      "userId": "03399868621473431933"
     },
     "user_tz": -480
    },
    "id": "OM63P_GlIDuk",
    "outputId": "96be4c0e-ea73-47e9-f40f-8a60e5a0839d"
   },
   "outputs": [
    {
     "name": "stderr",
     "output_type": "stream",
     "text": [
      "/usr/local/lib/python3.7/dist-packages/transformers/optimization.py:310: FutureWarning: This implementation of AdamW is deprecated and will be removed in a future version. Use the PyTorch implementation torch.optim.AdamW instead, or set `no_deprecation_warning=True` to disable this warning\n",
      "  FutureWarning,\n",
      "100%|█████████████| 49/49 [00:00<00:00, 66.32it/s]\n",
      "100%|██████████| 10/10 [00:00<00:00, 3627.35it/s]\n"
     ]
    },
    {
     "data": {
      "text/plain": [
       "[0.3224489795918367,\n",
       " [1.0,\n",
       "  0.061224489795918366,\n",
       "  0.7551020408163265,\n",
       "  0.0,\n",
       "  0.0,\n",
       "  0.0,\n",
       "  0.0,\n",
       "  1.0,\n",
       "  0.0,\n",
       "  0.0]]"
      ]
     },
     "execution_count": 42,
     "metadata": {},
     "output_type": "execute_result"
    }
   ],
   "source": [
    "# 训练集的准确率\n",
    "train_config = {\"data_loader\":get_batch,\n",
    "                \"texts\":total_trains,\n",
    "                \"labels\":total_data[:,1:],\n",
    "                \"problem_type\":\"multi_label_classification\",\n",
    "                \"batch_size\":1,\n",
    "                \"optimizer\":AdamW(filter(lambda p: p.requires_grad, model.parameters()), lr=1e-4),\n",
    "                \"epoch\":10,\n",
    "                \"data_len\":len(total_trains)\n",
    "}\n",
    "acc, out = test(model.cuda(),train_config)\n",
    "acc"
   ]
  },
  {
   "cell_type": "code",
   "execution_count": 41,
   "metadata": {
    "colab": {
     "base_uri": "https://localhost:8080/"
    },
    "executionInfo": {
     "elapsed": 17188,
     "status": "ok",
     "timestamp": 1658916421499,
     "user": {
      "displayName": "jonney wong",
      "userId": "03399868621473431933"
     },
     "user_tz": -480
    },
    "id": "fSZP37NYHuTx",
    "outputId": "2e12125f-3e31-4bbd-acf4-c873e836c456"
   },
   "outputs": [
    {
     "name": "stderr",
     "output_type": "stream",
     "text": [
      "100%|███████████| 908/908 [00:13<00:00, 68.18it/s]\n",
      "100%|██████████| 10/10 [00:00<00:00, 5233.07it/s]\n"
     ]
    },
    {
     "data": {
      "text/plain": [
       "[0.31211453744493395,\n",
       " [0.8337004405286343,\n",
       "  0.6376651982378855,\n",
       "  0.46916299559471364,\n",
       "  0.0881057268722467,\n",
       "  0.14537444933920704,\n",
       "  0.08480176211453745,\n",
       "  0.11563876651982379,\n",
       "  0.3777533039647577,\n",
       "  0.07268722466960352,\n",
       "  0.031938325991189426]]"
      ]
     },
     "execution_count": 41,
     "metadata": {},
     "output_type": "execute_result"
    }
   ],
   "source": [
    "# 观察各个类别的准确率\n",
    "test_config = {\"data_loader\":get_test_batch,\n",
    "                \"texts\":total_mtext,\n",
    "                \"labels\":temp1[features].values[:,-10:],\n",
    "                \"problem_type\":\"multi_label_classification\",\n",
    "                \"batch_size\":1,\n",
    "                \"data_len\":len(total_mtext)\n",
    "}\n",
    "acc, out = test(model.cuda(),test_config)\n",
    "acc"
   ]
  },
  {
   "cell_type": "code",
   "execution_count": 43,
   "metadata": {
    "colab": {
     "base_uri": "https://localhost:8080/"
    },
    "executionInfo": {
     "elapsed": 25236,
     "status": "ok",
     "timestamp": 1658916549745,
     "user": {
      "displayName": "jonney wong",
      "userId": "03399868621473431933"
     },
     "user_tz": -480
    },
    "id": "-n4QdbWlc0dI",
    "outputId": "2ee050a4-da6d-4234-a4c5-1cd642ffef2c"
   },
   "outputs": [
    {
     "name": "stderr",
     "output_type": "stream",
     "text": [
      "/usr/local/lib/python3.7/dist-packages/transformers/optimization.py:310: FutureWarning: This implementation of AdamW is deprecated and will be removed in a future version. Use the PyTorch implementation torch.optim.AdamW instead, or set `no_deprecation_warning=True` to disable this warning\n",
      "  FutureWarning,\n",
      "  0%|                      | 0/49 [00:00<?, ?it/s]/usr/local/lib/python3.7/dist-packages/ipykernel_launcher.py:12: DeprecationWarning: `np.int` is a deprecated alias for the builtin `int`. To silence this warning, use `int` by itself. Doing this will not modify any behavior and is safe. When replacing `np.int`, you may wish to use e.g. `np.int64` or `np.int32` to specify the precision. If you wish to review your current use, check the release note link for additional information.\n",
      "Deprecated in NumPy 1.20; for more details and guidance: https://numpy.org/devdocs/release/1.20.0-notes.html#deprecations\n",
      "  if sys.path[0] == '':\n",
      "100%|█████████████| 49/49 [00:00<00:00, 56.45it/s]\n"
     ]
    },
    {
     "name": "stdout",
     "output_type": "stream",
     "text": [
      "Train Epoch: 0 \tLoss: 0.592045\tAcc: 0.983673\n"
     ]
    },
    {
     "name": "stderr",
     "output_type": "stream",
     "text": [
      "100%|█████████████| 49/49 [00:00<00:00, 50.87it/s]\n"
     ]
    },
    {
     "name": "stdout",
     "output_type": "stream",
     "text": [
      "Train Epoch: 1 \tLoss: 0.582790\tAcc: 0.995918\n"
     ]
    },
    {
     "name": "stderr",
     "output_type": "stream",
     "text": [
      "100%|█████████████| 49/49 [00:00<00:00, 50.49it/s]\n"
     ]
    },
    {
     "name": "stdout",
     "output_type": "stream",
     "text": [
      "Train Epoch: 2 \tLoss: 0.579188\tAcc: 0.995918\n"
     ]
    },
    {
     "name": "stderr",
     "output_type": "stream",
     "text": [
      "100%|█████████████| 49/49 [00:00<00:00, 51.22it/s]\n"
     ]
    },
    {
     "name": "stdout",
     "output_type": "stream",
     "text": [
      "Train Epoch: 3 \tLoss: 0.579201\tAcc: 0.993878\n"
     ]
    },
    {
     "name": "stderr",
     "output_type": "stream",
     "text": [
      "100%|█████████████| 49/49 [00:00<00:00, 50.95it/s]\n"
     ]
    },
    {
     "name": "stdout",
     "output_type": "stream",
     "text": [
      "Train Epoch: 4 \tLoss: 0.586047\tAcc: 1.000000\n"
     ]
    },
    {
     "name": "stderr",
     "output_type": "stream",
     "text": [
      "100%|█████████████| 49/49 [00:00<00:00, 51.36it/s]\n"
     ]
    },
    {
     "name": "stdout",
     "output_type": "stream",
     "text": [
      "Train Epoch: 5 \tLoss: 0.579307\tAcc: 0.995918\n"
     ]
    },
    {
     "name": "stderr",
     "output_type": "stream",
     "text": [
      "100%|█████████████| 49/49 [00:00<00:00, 53.57it/s]\n"
     ]
    },
    {
     "name": "stdout",
     "output_type": "stream",
     "text": [
      "Train Epoch: 6 \tLoss: 0.579376\tAcc: 0.995918\n"
     ]
    },
    {
     "name": "stderr",
     "output_type": "stream",
     "text": [
      "100%|█████████████| 49/49 [00:00<00:00, 55.46it/s]\n"
     ]
    },
    {
     "name": "stdout",
     "output_type": "stream",
     "text": [
      "Train Epoch: 7 \tLoss: 0.579216\tAcc: 0.995918\n"
     ]
    },
    {
     "name": "stderr",
     "output_type": "stream",
     "text": [
      "100%|█████████████| 49/49 [00:00<00:00, 54.81it/s]\n"
     ]
    },
    {
     "name": "stdout",
     "output_type": "stream",
     "text": [
      "Train Epoch: 8 \tLoss: 0.580275\tAcc: 0.997959\n"
     ]
    },
    {
     "name": "stderr",
     "output_type": "stream",
     "text": [
      "100%|█████████████| 49/49 [00:00<00:00, 54.87it/s]\n"
     ]
    },
    {
     "name": "stdout",
     "output_type": "stream",
     "text": [
      "Train Epoch: 9 \tLoss: 0.582043\tAcc: 0.993878\n"
     ]
    }
   ],
   "source": [
    "\n",
    "# 解冻前两层fineturn\n",
    "\n",
    "total_param_name = []\n",
    "for param in model.named_parameters():\n",
    "  total_param_name.append(param[0])\n",
    "for param in model.named_parameters():\n",
    "    if param[0] in total_param_name[:-8]:\n",
    "        param[1].requires_grad = False\n",
    "    else:\n",
    "        param[1].requires_grad = True\n",
    "\n",
    "train_config = {\"data_loader\":get_batch,\n",
    "                \"texts\":total_trains,\n",
    "                \"labels\":total_data[:,1:],\n",
    "                \"problem_type\":\"multi_label_classification\",\n",
    "                \"batch_size\":1,\n",
    "                \"optimizer\":AdamW(filter(lambda p: p.requires_grad, model.parameters()), lr=1e-5),\n",
    "                \"epoch\":10,\n",
    "                \"data_len\":len(total_trains)\n",
    "}\n",
    "losses = train(model.cuda(),train_config)"
   ]
  },
  {
   "cell_type": "code",
   "execution_count": 44,
   "metadata": {
    "colab": {
     "base_uri": "https://localhost:8080/"
    },
    "executionInfo": {
     "elapsed": 583,
     "status": "ok",
     "timestamp": 1658916550322,
     "user": {
      "displayName": "jonney wong",
      "userId": "03399868621473431933"
     },
     "user_tz": -480
    },
    "id": "VsiRR1KeIWY8",
    "outputId": "be046e68-ee88-4c87-b933-f60d98e3a128"
   },
   "outputs": [
    {
     "name": "stderr",
     "output_type": "stream",
     "text": [
      "/usr/local/lib/python3.7/dist-packages/transformers/optimization.py:310: FutureWarning: This implementation of AdamW is deprecated and will be removed in a future version. Use the PyTorch implementation torch.optim.AdamW instead, or set `no_deprecation_warning=True` to disable this warning\n",
      "  FutureWarning,\n",
      "100%|█████████████| 49/49 [00:00<00:00, 66.25it/s]\n",
      "100%|██████████| 10/10 [00:00<00:00, 23237.14it/s]\n"
     ]
    },
    {
     "data": {
      "text/plain": [
       "[0.5755102040816327, [1.0, 1.0, 1.0, 1.0, 1.0, 1.0, 1.0, 1.0, 1.0, 1.0]]"
      ]
     },
     "execution_count": 44,
     "metadata": {},
     "output_type": "execute_result"
    }
   ],
   "source": [
    "# 训练集的准确率\n",
    "train_config = {\"data_loader\":get_batch,\n",
    "                \"texts\":total_trains,\n",
    "                \"labels\":total_data[:,1:],\n",
    "                \"problem_type\":\"multi_label_classification\",\n",
    "                \"batch_size\":1,\n",
    "                \"optimizer\":AdamW(filter(lambda p: p.requires_grad, model.parameters()), lr=1e-4),\n",
    "                \"epoch\":10,\n",
    "                \"data_len\":len(total_trains)\n",
    "}\n",
    "acc, out = test(model.cuda(),train_config)\n",
    "acc"
   ]
  },
  {
   "cell_type": "code",
   "execution_count": 45,
   "metadata": {
    "colab": {
     "base_uri": "https://localhost:8080/"
    },
    "executionInfo": {
     "elapsed": 13938,
     "status": "ok",
     "timestamp": 1658916568363,
     "user": {
      "displayName": "jonney wong",
      "userId": "03399868621473431933"
     },
     "user_tz": -480
    },
    "id": "-9sIzKwmOQyR",
    "outputId": "2bb95fad-87c8-4d2b-d4ed-e84cb7a9f927"
   },
   "outputs": [
    {
     "name": "stderr",
     "output_type": "stream",
     "text": [
      "100%|███████████| 908/908 [00:13<00:00, 67.12it/s]\n",
      "100%|██████████| 10/10 [00:00<00:00, 5397.38it/s]\n"
     ]
    },
    {
     "data": {
      "text/plain": [
       "[0.5802863436123348,\n",
       " [0.8370044052863436,\n",
       "  0.3623348017621145,\n",
       "  0.5561674008810573,\n",
       "  0.9118942731277533,\n",
       "  0.8546255506607929,\n",
       "  0.9151982378854625,\n",
       "  0.8843612334801763,\n",
       "  0.3788546255506608,\n",
       "  0.9273127753303965,\n",
       "  0.9680616740088106]]"
      ]
     },
     "execution_count": 45,
     "metadata": {},
     "output_type": "execute_result"
    }
   ],
   "source": [
    "# 观察各个类别的准确率\n",
    "test_config = {\"data_loader\":get_test_batch,\n",
    "                \"texts\":total_mtext,\n",
    "                \"labels\":temp1[features].values[:,-10:],\n",
    "                \"problem_type\":\"multi_label_classification\",\n",
    "                \"batch_size\":1,\n",
    "                \"data_len\":len(total_mtext)\n",
    "}\n",
    "acc, out = test(model.cuda(),test_config)\n",
    "acc"
   ]
  },
  {
   "cell_type": "code",
   "execution_count": 53,
   "metadata": {
    "colab": {
     "base_uri": "https://localhost:8080/"
    },
    "executionInfo": {
     "elapsed": 20670,
     "status": "ok",
     "timestamp": 1658917183781,
     "user": {
      "displayName": "jonney wong",
      "userId": "03399868621473431933"
     },
     "user_tz": -480
    },
    "id": "p1h0pJo8KsqD",
    "outputId": "3239318c-955a-4a30-fec3-20b4e1b08f2f"
   },
   "outputs": [
    {
     "name": "stderr",
     "output_type": "stream",
     "text": [
      "/usr/local/lib/python3.7/dist-packages/transformers/optimization.py:310: FutureWarning: This implementation of AdamW is deprecated and will be removed in a future version. Use the PyTorch implementation torch.optim.AdamW instead, or set `no_deprecation_warning=True` to disable this warning\n",
      "  FutureWarning,\n",
      "  0%|                      | 0/49 [00:00<?, ?it/s]/usr/local/lib/python3.7/dist-packages/ipykernel_launcher.py:12: DeprecationWarning: `np.int` is a deprecated alias for the builtin `int`. To silence this warning, use `int` by itself. Doing this will not modify any behavior and is safe. When replacing `np.int`, you may wish to use e.g. `np.int64` or `np.int32` to specify the precision. If you wish to review your current use, check the release note link for additional information.\n",
      "Deprecated in NumPy 1.20; for more details and guidance: https://numpy.org/devdocs/release/1.20.0-notes.html#deprecations\n",
      "  if sys.path[0] == '':\n",
      "100%|█████████████| 49/49 [00:00<00:00, 49.14it/s]\n"
     ]
    },
    {
     "name": "stdout",
     "output_type": "stream",
     "text": [
      "Train Epoch: 0 \tLoss: 0.582539\tAcc: 1.000000\n"
     ]
    },
    {
     "name": "stderr",
     "output_type": "stream",
     "text": [
      "100%|█████████████| 49/49 [00:00<00:00, 50.10it/s]\n"
     ]
    },
    {
     "name": "stdout",
     "output_type": "stream",
     "text": [
      "Train Epoch: 1 \tLoss: 0.595664\tAcc: 0.997959\n"
     ]
    },
    {
     "name": "stderr",
     "output_type": "stream",
     "text": [
      "100%|█████████████| 49/49 [00:00<00:00, 50.15it/s]\n"
     ]
    },
    {
     "name": "stdout",
     "output_type": "stream",
     "text": [
      "Train Epoch: 2 \tLoss: 0.579253\tAcc: 0.993878\n"
     ]
    },
    {
     "name": "stderr",
     "output_type": "stream",
     "text": [
      "100%|█████████████| 49/49 [00:00<00:00, 50.05it/s]\n"
     ]
    },
    {
     "name": "stdout",
     "output_type": "stream",
     "text": [
      "Train Epoch: 3 \tLoss: 0.579228\tAcc: 0.997959\n"
     ]
    },
    {
     "name": "stderr",
     "output_type": "stream",
     "text": [
      "100%|█████████████| 49/49 [00:00<00:00, 50.77it/s]\n"
     ]
    },
    {
     "name": "stdout",
     "output_type": "stream",
     "text": [
      "Train Epoch: 4 \tLoss: 0.585949\tAcc: 0.995918\n"
     ]
    },
    {
     "name": "stderr",
     "output_type": "stream",
     "text": [
      "100%|█████████████| 49/49 [00:00<00:00, 49.78it/s]\n"
     ]
    },
    {
     "name": "stdout",
     "output_type": "stream",
     "text": [
      "Train Epoch: 5 \tLoss: 0.579237\tAcc: 0.997959\n"
     ]
    },
    {
     "name": "stderr",
     "output_type": "stream",
     "text": [
      "100%|█████████████| 49/49 [00:00<00:00, 50.34it/s]\n"
     ]
    },
    {
     "name": "stdout",
     "output_type": "stream",
     "text": [
      "Train Epoch: 6 \tLoss: 0.579312\tAcc: 1.000000\n"
     ]
    },
    {
     "name": "stderr",
     "output_type": "stream",
     "text": [
      "100%|█████████████| 49/49 [00:01<00:00, 48.99it/s]\n"
     ]
    },
    {
     "name": "stdout",
     "output_type": "stream",
     "text": [
      "Train Epoch: 7 \tLoss: 0.579960\tAcc: 0.995918\n"
     ]
    }
   ],
   "source": [
    "\n",
    "# 解冻前两层fineturn\n",
    "\n",
    "total_param_name = []\n",
    "for param in model.named_parameters():\n",
    "  total_param_name.append(param[0])\n",
    "for param in model.named_parameters():\n",
    "    if param[0] in total_param_name[:-16]:\n",
    "        param[1].requires_grad = False\n",
    "    else:\n",
    "        param[1].requires_grad = True\n",
    "\n",
    "train_config = {\"data_loader\":get_batch,\n",
    "                \"texts\":total_trains,\n",
    "                \"labels\":total_data[:,1:],\n",
    "                \"problem_type\":\"multi_label_classification\",\n",
    "                \"batch_size\":1,\n",
    "                \"optimizer\":AdamW(filter(lambda p: p.requires_grad, model.parameters()), lr=1e-6),\n",
    "                \"epoch\":8,\n",
    "                \"data_len\":len(total_trains)\n",
    "}\n",
    "losses = train(model.cuda(),train_config)"
   ]
  },
  {
   "cell_type": "code",
   "execution_count": 54,
   "metadata": {
    "colab": {
     "base_uri": "https://localhost:8080/"
    },
    "executionInfo": {
     "elapsed": 14732,
     "status": "ok",
     "timestamp": 1658917207504,
     "user": {
      "displayName": "jonney wong",
      "userId": "03399868621473431933"
     },
     "user_tz": -480
    },
    "id": "MVhyz63vKI2_",
    "outputId": "7bac1fd8-2c2f-4055-a609-6c8b3ab235ab"
   },
   "outputs": [
    {
     "name": "stderr",
     "output_type": "stream",
     "text": [
      "100%|███████████| 908/908 [00:13<00:00, 65.07it/s]\n",
      "100%|██████████| 10/10 [00:00<00:00, 5338.30it/s]\n"
     ]
    },
    {
     "data": {
      "text/plain": [
       "[0.5802863436123348,\n",
       " [0.8370044052863436,\n",
       "  0.3623348017621145,\n",
       "  0.5561674008810573,\n",
       "  0.9118942731277533,\n",
       "  0.8546255506607929,\n",
       "  0.9151982378854625,\n",
       "  0.8843612334801763,\n",
       "  0.3788546255506608,\n",
       "  0.9273127753303965,\n",
       "  0.9680616740088106]]"
      ]
     },
     "execution_count": 54,
     "metadata": {},
     "output_type": "execute_result"
    }
   ],
   "source": [
    "# 观察各个类别的准确率\n",
    "test_config = {\"data_loader\":get_test_batch,\n",
    "                \"texts\":total_mtext,\n",
    "                \"labels\":temp1[features].values[:,-10:],\n",
    "                \"problem_type\":\"multi_label_classification\",\n",
    "                \"batch_size\":1,\n",
    "                \"data_len\":len(total_mtext)\n",
    "}\n",
    "acc, out = test(model.cuda(),test_config)\n",
    "acc"
   ]
  },
  {
   "cell_type": "code",
   "execution_count": 55,
   "metadata": {
    "executionInfo": {
     "elapsed": 1040,
     "status": "ok",
     "timestamp": 1658917217150,
     "user": {
      "displayName": "jonney wong",
      "userId": "03399868621473431933"
     },
     "user_tz": -480
    },
    "id": "RiZvyS_hOpgC"
   },
   "outputs": [],
   "source": [
    "P = np.array(out[0]).T\n",
    "Ps = np.array(out[2])\n",
    "from sklearn.decomposition import PCA\n",
    "modd = PCA(8)\n",
    "Ps = modd.fit_transform(Ps)\n",
    "ttt = pd.DataFrame({\"Text\":total_mtext,\"预测1\":P[:,0],\"预测2\":P[:,1],\"预测3\":P[:,2],\"预测4\":P[:,3],\"预测5\":P[:,4],\"预测6\":P[:,5],\"预测7\":P[:,6],\"预测8\":P[:,7],\"预测9\":P[:,8],\"预测10\":P[:,9]})\n",
    "for i in range(8):\n",
    "  ttt[\"Feature\" + str(i)] = Ps[:,i]\n",
    "ttt.to_excel(\"out.xlsx\")"
   ]
  }
 ],
 "metadata": {
  "accelerator": "GPU",
  "colab": {
   "authorship_tag": "ABX9TyMsKWhqHp4CfBMaI2N4jVU2",
   "collapsed_sections": [],
   "machine_shape": "hm",
   "mount_file_id": "18fbEyrWW4VeNP9nNh_bXBSIpdypJunXH",
   "name": "多任务回归.ipynb",
   "provenance": []
  },
  "kernelspec": {
   "display_name": "Python 3 (ipykernel)",
   "language": "python",
   "name": "python3"
  },
  "language_info": {
   "codemirror_mode": {
    "name": "ipython",
    "version": 3
   },
   "file_extension": ".py",
   "mimetype": "text/x-python",
   "name": "python",
   "nbconvert_exporter": "python",
   "pygments_lexer": "ipython3",
   "version": "3.8.0"
  }
 },
 "nbformat": 4,
 "nbformat_minor": 1
}
